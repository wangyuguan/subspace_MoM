{
 "cells": [
  {
   "cell_type": "code",
   "execution_count": 23,
   "metadata": {},
   "outputs": [
    {
     "data": {
      "text/plain": [
       "array([[ 1.99999988e+00,  1.81581706e-17,  2.28264355e-07,\n",
       "        -1.23416003e-18, -5.17274737e-08, -4.86299162e-18],\n",
       "       [ 1.81581706e-17,  2.00000019e+00,  3.73184623e-17,\n",
       "         2.22060537e-07,  2.12515099e-17, -1.74686204e-07],\n",
       "       [ 2.28264355e-07,  3.73184623e-17,  2.00000034e+00,\n",
       "         1.78598266e-17,  1.65860186e-07,  1.38454972e-17],\n",
       "       [-1.23416003e-18,  2.22060537e-07,  1.78598266e-17,\n",
       "         2.00000019e+00,  3.17622888e-17,  1.04552926e-07],\n",
       "       [-5.17274737e-08,  2.12515099e-17,  1.65860186e-07,\n",
       "         3.17622888e-17,  2.00000019e+00, -1.18293065e-17],\n",
       "       [-4.86299162e-18, -1.74686204e-07,  1.38454972e-17,\n",
       "         1.04552926e-07, -1.18293065e-17,  1.99999998e+00]])"
      ]
     },
     "execution_count": 23,
     "metadata": {},
     "output_type": "execute_result"
    }
   ],
   "source": [
    "from utils import norm_assoc_legendre_all\n",
    "from aspire.basis.basis_utils import lgwt\n",
    "import numpy as np \n",
    "\n",
    "\n",
    "\n",
    "\n",
    "nmax = 10 \n",
    "ndeg = int(2.5*nmax)\n",
    "[xlege,wlege] = lgwt(ndeg, -1, 1)\n",
    "\n",
    "\n",
    "y = norm_assoc_legendre_all(nmax, xlege)\n",
    "\n",
    "\n",
    "m = 5 \n",
    "\n",
    "inner_dots = np.zeros([nmax+1,nmax+1])\n",
    "for n1 in range(m,nmax+1):\n",
    "    y1 = y[n1,m,:]\n",
    "    for n2 in range(m,nmax+1):\n",
    "        y2 = y[n2,m,:]\n",
    "        inner_dots[n1,n2] = np.sum(y1*y2*wlege)\n",
    "\n",
    "inner_dots[m:,m:]\n"
   ]
  },
  {
   "cell_type": "code",
   "execution_count": 9,
   "metadata": {},
   "outputs": [
    {
     "data": {
      "text/plain": [
       "(10, 10)"
      ]
     },
     "execution_count": 9,
     "metadata": {},
     "output_type": "execute_result"
    }
   ],
   "source": []
  },
  {
   "cell_type": "code",
   "execution_count": null,
   "metadata": {},
   "outputs": [],
   "source": []
  },
  {
   "cell_type": "code",
   "execution_count": null,
   "metadata": {},
   "outputs": [],
   "source": []
  },
  {
   "cell_type": "code",
   "execution_count": null,
   "metadata": {},
   "outputs": [],
   "source": []
  }
 ],
 "metadata": {
  "kernelspec": {
   "display_name": "aspire",
   "language": "python",
   "name": "python3"
  },
  "language_info": {
   "codemirror_mode": {
    "name": "ipython",
    "version": 3
   },
   "file_extension": ".py",
   "mimetype": "text/x-python",
   "name": "python",
   "nbconvert_exporter": "python",
   "pygments_lexer": "ipython3",
   "version": "3.9.21"
  }
 },
 "nbformat": 4,
 "nbformat_minor": 2
}
