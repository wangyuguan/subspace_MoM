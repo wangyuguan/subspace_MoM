{
 "cells": [
  {
   "cell_type": "code",
   "execution_count": 1,
   "metadata": {},
   "outputs": [],
   "source": [
    "import numpy as np \n",
    "import numpy.linalg as LA \n",
    "from rotation import wignerD, Rz, Ry \n",
    "from volume import norm_assoc_legendre_all, cart2sph\n",
    "\n",
    "\n",
    "\n",
    "j = 5 \n",
    "alpha = 2 \n",
    "beta = 3 \n",
    "gamma = 2\n",
    "\n",
    "Rot = Rz(alpha) @ Ry(beta) @ Rz(gamma)\n",
    "\n",
    "\n",
    "Dj = wignerD(j,alpha,beta,gamma)"
   ]
  },
  {
   "cell_type": "code",
   "execution_count": 2,
   "metadata": {},
   "outputs": [
    {
     "name": "stdout",
     "output_type": "stream",
     "text": [
      "1.3619108267767208e-15\n",
      "1.3616788580309498e-15\n"
     ]
    }
   ],
   "source": [
    "# should be close to zero \n",
    "\n",
    "err = LA.norm(np.eye(2*j+1) - Dj @ np.conj(Dj).T, 'fro')\n",
    "print(err)\n",
    "\n",
    "err = LA.norm(np.eye(2*j+1) - np.conj(Dj).T @ Dj , 'fro')\n",
    "print(err)"
   ]
  },
  {
   "cell_type": "code",
   "execution_count": 14,
   "metadata": {},
   "outputs": [
    {
     "name": "stdout",
     "output_type": "stream",
     "text": [
      "(-2.3296583755296914e-05-1.5104592320554224e-05j) [-2.32965838e-05-1.51045923e-05j] [1.08991754e-14]\n",
      "(8.96189104547206e-05-0.000609382732023333j) [8.96189105e-05-0.00060938j] [8.36441701e-15]\n",
      "(0.007803283534917882-0.0022708038217917753j) [0.00780328-0.0022708j] [6.21582898e-15]\n",
      "(0.04529274927100584+0.052440909042093885j) [0.04529275+0.05244091j] [3.97539876e-15]\n",
      "(-0.14978683663450806+0.32729020903824096j) [-0.14978684+0.32729021j] [1.34670697e-15]\n",
      "(-0.8550755669850221+0j) [-0.85507557+0.j] [6.49195853e-16]\n",
      "(0.14978683663450806+0.32729020903824096j) [0.14978684+0.32729021j] [1.34670697e-15]\n",
      "(0.04529274927100584-0.052440909042093885j) [0.04529275-0.05244091j] [3.97539876e-15]\n",
      "(-0.007803283534917882-0.0022708038217917753j) [-0.00780328-0.0022708j] [6.21582898e-15]\n",
      "(8.96189104547206e-05+0.000609382732023333j) [8.96189105e-05+0.00060938j] [8.36441701e-15]\n",
      "(2.3296583755296914e-05-1.5104592320554224e-05j) [2.32965838e-05-1.51045923e-05j] [1.08991754e-14]\n"
     ]
    }
   ],
   "source": [
    "# should agree \n",
    "\n",
    "lp = norm_assoc_legendre_all(j, np.cos(beta))\n",
    "\n",
    "\n",
    "for m in range(-j,j+1):\n",
    "    lpjm = lp[j,abs(m)]*np.exp(-1j*m*alpha)/np.sqrt(2*j+1)\n",
    "\n",
    "    if m<0:\n",
    "        lpjm = lpjm*(-1)**m \n",
    "\n",
    "\n",
    "    print(Dj[m+j,j],lpjm,abs(lpjm-Dj[m+j,j])/abs(lpjm))\n"
   ]
  },
  {
   "cell_type": "code",
   "execution_count": 8,
   "metadata": {},
   "outputs": [
    {
     "name": "stdout",
     "output_type": "stream",
     "text": [
      "[0.34958036-0.21987977j]\n",
      "[-0.34941332+0.21976019j]\n"
     ]
    }
   ],
   "source": [
    "# generate rotated vectors \n",
    "\n",
    "x = np.array([1,2,3])\n",
    "rx, thx, phx = cart2sph(x[0], x[1], x[2])\n",
    "\n",
    "y = Rot.T @ x \n",
    "ry, thy, phy = cart2sph(y[0], y[1], y[2])\n",
    "\n",
    "\n",
    "# evaluate rotated spherical harmonics \n",
    "\n",
    "\n",
    "\n",
    "lpy = norm_assoc_legendre_all(j, np.cos(thy))\n",
    "lpx = norm_assoc_legendre_all(j, np.cos(thx))\n",
    "\n",
    "\n",
    "for m in range(-j,j+1):\n",
    "    yjm = lpy[j,abs(m)]*np.exp(1j*m*phy)/np.sqrt(4*np.pi)\n",
    "    if m<0:\n",
    "        yjm = yjm*(-1)**m \n",
    "\n",
    "    _yjm = 0 \n",
    "\n",
    "    for mp in range(-j,j+1):\n",
    "        yjmp = lpx[j,abs(mp)]*np.exp(1j*mp*phx)/np.sqrt(4*np.pi)\n",
    "        if mp<0:\n",
    "            yjmp = yjmp*(-1)**mp\n",
    "            \n",
    "        _yjm += Dj[mp+j,m+j]*yjmp\n",
    "\n",
    "\n",
    "    print(_yjm,yjm,abs(_yjm-yjm)/abs(yjm))\n",
    "\n",
    "\n"
   ]
  },
  {
   "cell_type": "code",
   "execution_count": null,
   "metadata": {},
   "outputs": [],
   "source": []
  }
 ],
 "metadata": {
  "kernelspec": {
   "display_name": "aspire",
   "language": "python",
   "name": "python3"
  },
  "language_info": {
   "codemirror_mode": {
    "name": "ipython",
    "version": 3
   },
   "file_extension": ".py",
   "mimetype": "text/x-python",
   "name": "python",
   "nbconvert_exporter": "python",
   "pygments_lexer": "ipython3",
   "version": "3.9.21"
  }
 },
 "nbformat": 4,
 "nbformat_minor": 2
}
