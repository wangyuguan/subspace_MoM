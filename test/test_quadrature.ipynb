{
 "cells": [
  {
   "cell_type": "code",
   "execution_count": 1,
   "metadata": {},
   "outputs": [],
   "source": [
    "import sys\n",
    "from pathlib import Path\n",
    "\n",
    "# Add the 'src' directory to the Python path\n",
    "src_path = Path('../src').resolve()\n",
    "sys.path.append(str(src_path))\n",
    "\n",
    "import numpy as np \n",
    "import numpy.linalg as LA \n",
    "from utils import * \n",
    "from viewing_direction import * \n",
    "from volume import * "
   ]
  },
  {
   "cell_type": "code",
   "execution_count": 2,
   "metadata": {},
   "outputs": [],
   "source": [
    "ell_max = 20\n",
    "grids = load_sph_gauss_quadrature(ell_max)\n",
    "\n",
    "integrals = []\n",
    "lpall = norm_assoc_legendre_all(ell_max, np.cos(grids.ths))\n",
    "lpall = lpall/np.sqrt(4*np.pi)\n",
    "exp_all = np.zeros((2*ell_max+1,len(grids.phs)), dtype=complex)\n",
    "for m in range(-ell_max,ell_max+1):\n",
    "    exp_all[m+ell_max,:] = np.exp(1j*m*grids.phs)\n",
    "\n",
    "\n",
    "for ell in range(ell_max+1):\n",
    "    for m in range(-ell,ell+1):\n",
    "        lp = lpall[ell,abs(m),:]\n",
    "        if m<0:\n",
    "            lp = (-1)**m*lp\n",
    "        vals  = lp*exp_all[m+ell_max,:]\n",
    "        integrals.append(np.sum(vals*grids.w))\n",
    "\n",
    "integrals = np.array(integrals, dtype=np.complex128)"
   ]
  },
  {
   "cell_type": "code",
   "execution_count": 3,
   "metadata": {},
   "outputs": [
    {
     "name": "stdout",
     "output_type": "stream",
     "text": [
      "(0.07957747154601132+0j) 5.447732542896367e-12\n"
     ]
    }
   ],
   "source": [
    "# integrate all spherical harmonics, except that the integral of Y00 \n",
    "# is 1/sqrt(4*pi), the others are zeros\n",
    "\n",
    "print(integrals[0]/np.sqrt(4*np.pi), LA.norm(integrals[1:], np.inf))"
   ]
  },
  {
   "cell_type": "code",
   "execution_count": 4,
   "metadata": {},
   "outputs": [],
   "source": [
    "ell_max_1 = 5 \n",
    "ell_max_2 = 2 \n",
    "euler_nodes, weights  = load_so3_quadrature(ell_max_1, ell_max_2)"
   ]
  },
  {
   "cell_type": "code",
   "execution_count": 5,
   "metadata": {},
   "outputs": [
    {
     "data": {
      "text/plain": [
       "1.0000000000020002"
      ]
     },
     "execution_count": 5,
     "metadata": {},
     "output_type": "execute_result"
    }
   ],
   "source": [
    "np.sum(weights)"
   ]
  },
  {
   "cell_type": "markdown",
   "metadata": {},
   "source": []
  },
  {
   "cell_type": "markdown",
   "metadata": {},
   "source": []
  },
  {
   "cell_type": "code",
   "execution_count": 19,
   "metadata": {},
   "outputs": [],
   "source": [
    "\n"
   ]
  },
  {
   "cell_type": "code",
   "execution_count": null,
   "metadata": {},
   "outputs": [],
   "source": []
  },
  {
   "cell_type": "code",
   "execution_count": null,
   "metadata": {},
   "outputs": [],
   "source": []
  },
  {
   "cell_type": "code",
   "execution_count": null,
   "metadata": {},
   "outputs": [],
   "source": []
  },
  {
   "cell_type": "code",
   "execution_count": null,
   "metadata": {},
   "outputs": [],
   "source": []
  }
 ],
 "metadata": {
  "kernelspec": {
   "display_name": "aspire",
   "language": "python",
   "name": "python3"
  },
  "language_info": {
   "codemirror_mode": {
    "name": "ipython",
    "version": 3
   },
   "file_extension": ".py",
   "mimetype": "text/x-python",
   "name": "python",
   "nbconvert_exporter": "python",
   "pygments_lexer": "ipython3",
   "version": "3.9.21"
  }
 },
 "nbformat": 4,
 "nbformat_minor": 2
}
