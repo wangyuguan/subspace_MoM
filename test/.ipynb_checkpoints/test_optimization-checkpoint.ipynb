{
 "cells": [
  {
   "cell_type": "code",
   "execution_count": 27,
   "metadata": {},
   "outputs": [],
   "source": [
    "import sys\n",
    "from pathlib import Path\n",
    "\n",
    "\n",
    "# Add the 'src' directory to the Python path\n",
    "src_path = Path('../src').resolve()\n",
    "sys.path.append(str(src_path))\n",
    "\n",
    "from aspire.volume import Volume\n",
    "import mrcfile\n",
    "import numpy as np \n",
    "import numpy.linalg as LA \n",
    "from viewing_direction import *\n",
    "from utils import *\n",
    "from aspire.basis.basis_utils import lgwt\n",
    "from volume import *\n",
    "from moments import * \n",
    "import matplotlib.pyplot as plt\n",
    "\n",
    "\n",
    "# import jax\n",
    "# import jax.numpy as jnp\n",
    "# from jax import grad, jit \n",
    "# from jax.numpy.linalg import norm"
   ]
  },
  {
   "cell_type": "code",
   "execution_count": 28,
   "metadata": {},
   "outputs": [
    {
     "name": "stdout",
     "output_type": "stream",
     "text": [
      "CPU times: user 25.1 ms, sys: 7.41 ms, total: 32.5 ms\n",
      "Wall time: 18.5 ms\n"
     ]
    }
   ],
   "source": [
    "%%time\n",
    "\n",
    "# get ground truth a and b \n",
    "\n",
    "c = 10\n",
    "centers = np.random.normal(0,1,size=(c,3))\n",
    "centers /= LA.norm(centers, axis=1, keepdims=True)\n",
    "w_vmf = np.random.uniform(0,1,c)\n",
    "w_vmf = w_vmf/np.sum(w_vmf)\n",
    "\n",
    "\n",
    "ngrid = 50 \n",
    "_ths = np.pi*np.arange(ngrid)/ngrid\n",
    "_phs = 2*np.pi*np.arange(ngrid)/ngrid\n",
    "\n",
    "ths, phs = np.meshgrid(_ths,_phs,indexing='ij')\n",
    "ths, phs = ths.flatten(), phs.flatten()\n",
    "\n",
    "grid = Grid_3d(type='spherical', ths=ths, phs=phs)\n",
    "\n",
    "\n",
    "kappa = 5\n",
    "f_vmf = vMF_density(centers,w_vmf,kappa,grid)\n",
    "f_vmf = f_vmf*np.sin(ths)\n",
    "f_vmf = f_vmf.reshape((ngrid,ngrid))\n",
    "\n",
    "\n",
    "\n",
    "def my_fun(th,ph):\n",
    "    grid = Grid_3d(type='spherical', ths=np.array([th]),phs=np.array([ph]))\n",
    "    return 4*np.pi*vMF_density(centers,w_vmf,kappa,grid)[0]\n",
    "\n",
    "ell_max_half_view = 4\n",
    "sph_coef, indices = sph_harm_transform(my_fun, ell_max_half_view)\n",
    "rot_coef = sph_t_rot_coef(sph_coef, ell_max_half_view)\n",
    "rot_coef[0] = 1\n",
    "sph_r_t_c , sph_c_t_r =  get_sph_r_t_c_mat(ell_max_half_view)\n",
    "b = np.real(sph_c_t_r @ rot_coef)\n",
    "rot_coef = sph_r_t_c @ b\n",
    "b = b[1:]\n",
    "\n",
    "\n"
   ]
  },
  {
   "cell_type": "code",
   "execution_count": 29,
   "metadata": {},
   "outputs": [
    {
     "name": "stdout",
     "output_type": "stream",
     "text": [
      "CPU times: user 12.9 s, sys: 2.46 s, total: 15.4 s\n",
      "Wall time: 8.36 s\n"
     ]
    }
   ],
   "source": [
    "%%time\n",
    "\n",
    "# get the spherical FB coefficient of the volume\n",
    "with mrcfile.open('../data/emd_34948.map') as mrc:\n",
    "    data = mrc.data\n",
    "\n",
    "data = data/LA.norm(data.flatten())\n",
    "Vol = Volume(data)\n",
    "ds_res = 64 \n",
    "Vol = Vol.downsample(ds_res)\n",
    "vol = Vol.asnumpy()\n",
    "vol = vol[0]\n",
    "\n",
    "\n",
    "ell_max_vol = 5\n",
    "# spherical bessel transform \n",
    "vol_coef, k_max, r0, indices_vol = sphFB_transform(vol, ell_max_vol)\n",
    "sphFB_r_t_c, sphFB_c_t_r = get_sphFB_r_t_c_mat(ell_max_vol, k_max, indices_vol)\n",
    "a = np.real(sphFB_c_t_r @ vol_coef)\n",
    "vol_coef = sphFB_r_t_c @ a "
   ]
  },
  {
   "cell_type": "code",
   "execution_count": 30,
   "metadata": {},
   "outputs": [
    {
     "name": "stdout",
     "output_type": "stream",
     "text": [
      "getting the first moment\n",
      "getting the second moment\n",
      "getting the third moment\n",
      "(121, 1)\n",
      "(121, 121)\n",
      "(51, 51, 51)\n",
      "CPU times: user 21min 38s, sys: 26min 33s, total: 48min 12s\n",
      "Wall time: 2min 31s\n"
     ]
    }
   ],
   "source": [
    "%%time\n",
    "\n",
    "# form the moments \n",
    "r2_max = 250 \n",
    "r3_max = 100 \n",
    "tol2 = 1e-10\n",
    "tol3 = 1e-6 \n",
    "grid = get_2d_unif_grid(ds_res,1/ds_res)\n",
    "grid = Grid_3d(xs=grid.xs, ys=grid.ys, zs=np.zeros(grid.ys.shape))\n",
    "\n",
    "opts = {}\n",
    "opts['r2_max'] = r2_max\n",
    "opts['r3_max'] = r3_max\n",
    "opts['tol2'] = tol2 \n",
    "opts['tol3'] = tol3 \n",
    "opts['grid'] = grid\n",
    "\n",
    "subMoMs = coef_t_subspace_moments(vol_coef, ell_max_vol, k_max, r0, indices_vol, rot_coef, ell_max_half_view, opts)\n",
    "m1_emp = subMoMs['m1']\n",
    "m2_emp = subMoMs['m2']\n",
    "m3_emp = subMoMs['m3']\n",
    "U2 = subMoMs['U2']\n",
    "U3 = subMoMs['U3']\n",
    "\n",
    "\n",
    "print(m1_emp.shape)\n",
    "print(m2_emp.shape)\n",
    "print(m3_emp.shape)"
   ]
  },
  {
   "cell_type": "code",
   "execution_count": 31,
   "metadata": {},
   "outputs": [
    {
     "name": "stdout",
     "output_type": "stream",
     "text": [
      "CPU times: user 1h 45min 33s, sys: 2h 21min 10s, total: 4h 6min 44s\n",
      "Wall time: 10min 47s\n"
     ]
    }
   ],
   "source": [
    "%%time \n",
    "\n",
    "quadrature_rules = {} \n",
    "quadrature_rules['m2'] = load_so3_quadrature(2*ell_max_vol, 2*ell_max_half_view)\n",
    "quadrature_rules['m3'] = load_so3_quadrature(3*ell_max_vol, 2*ell_max_half_view)\n",
    "\n",
    "subspaces = {}\n",
    "subspaces['m2'] = U2 \n",
    "subspaces['m3'] = U3 \n",
    "\n",
    "Phi_precomps, Psi_precomps = precomputation(ell_max_vol, k_max, r0, indices_vol, ell_max_half_view, subspaces, quadrature_rules, grid)"
   ]
  },
  {
   "cell_type": "code",
   "execution_count": 32,
   "metadata": {},
   "outputs": [
    {
     "name": "stdout",
     "output_type": "stream",
     "text": [
      "CPU times: user 75.8 ms, sys: 39.3 ms, total: 115 ms\n",
      "Wall time: 5.02 ms\n"
     ]
    }
   ],
   "source": [
    "%%time \n",
    "\n",
    "xtrue =  np.concatenate([a,b])\n",
    "na = len(a)\n",
    "nb = len(b)\n",
    "view_constr, rhs, _ = get_linear_ineqn_constraint(ell_max_half_view)\n",
    "A_constr = np.zeros([len(rhs), len(xtrue)])\n",
    "A_constr[:,na:] = view_constr \n",
    "\n",
    "a0 = np.random.normal(0,1,a.shape)\n",
    "b0 = np.zeros(b.shape)\n",
    "\n",
    "\n",
    "x0 = xtrue+1e-4*np.concatenate([a0,b0])\n"
   ]
  },
  {
   "cell_type": "code",
   "execution_count": 49,
   "metadata": {},
   "outputs": [],
   "source": [
    "from scipy.io import savemat\n",
    "savemat('moms_emp.mat',{'m1_emp':m1_emp,'m2_emp':m2_emp,'m3_emp':m3_emp})\n",
    "savemat('precomps.mat',{'Phi_precomps_m2':Phi_precomps['m2'],'Phi_precomps_m3':Phi_precomps['m3'],'Psi_precomps_m2':Psi_precomps['m2'],'Psi_precomps_m3':Psi_precomps['m3']})\n",
    "savemat('w_so3.mat',{'w_so3_m2':quadrature_rules['m2'][1],'w_so3_m3':quadrature_rules['m3'][1]})\n",
    "savemat('params.mat',{'a':a,'b':b,'xtrue':xtrue,'x0':x0})\n",
    "savemat('constraint.mat',{'A_constr':A_constr,'rhs':rhs})\n",
    "# savemat('b.mat','b')\n",
    "# savemat('xtrue.mat','xtrue')\n",
    "# savemat('x0.mat','x0')\n",
    "# savemat('A_constr.mat',A_constr)\n",
    "# savemat('rhs.mat',rhs)"
   ]
  },
  {
   "cell_type": "code",
   "execution_count": 39,
   "metadata": {},
   "outputs": [
    {
     "name": "stdout",
     "output_type": "stream",
     "text": [
      "| niter |f evals|CG iter|  obj func   |tr radius |   opt    |  c viol  | penalty  |barrier param|CG stop|\n",
      "|-------|-------|-------|-------------|----------|----------|----------|----------|-------------|-------|\n",
      "|   1   |   1   |   0   | +1.0251e-02 | 1.00e+00 | 2.59e+01 | 0.00e+00 | 1.00e+00 |  1.00e-01   |   0   |\n",
      "|   2   |   2   |   1   | +1.0251e-02 | 1.00e-01 | 2.59e+01 | 0.00e+00 | 1.00e+00 |  1.00e-01   |   2   |\n",
      "|   3   |   3   |   4   | +7.5155e+01 | 7.00e-01 | 2.14e+03 | 0.00e+00 | 5.90e+03 |  1.00e-01   |   2   |\n",
      "|   4   |   4   |   7   | +9.4188e+02 | 4.90e+00 | 7.41e+03 | 0.00e+00 | 1.77e+04 |  1.00e-01   |   2   |\n",
      "|   5   |   5   |  31   | +2.3478e+00 | 2.88e+01 | 4.45e+02 | 0.00e+00 | 1.77e+04 |  1.00e-01   |   4   |\n",
      "|   6   |   6   |  54   | +1.2345e+00 | 2.88e+01 | 3.00e+02 | 0.00e+00 | 1.77e+04 |  1.00e-01   |   4   |\n",
      "|   7   |   7   |  77   | +1.5743e-01 | 2.88e+01 | 6.97e+01 | 0.00e+00 | 1.77e+04 |  1.00e-01   |   4   |\n",
      "|   8   |   8   |  95   | +1.1686e-01 | 2.88e+01 | 5.75e+01 | 0.00e+00 | 1.77e+04 |  1.00e-01   |   4   |\n",
      "|   9   |   9   |  118  | +1.3342e-02 | 2.88e+01 | 1.71e+01 | 0.00e+00 | 1.77e+04 |  1.00e-01   |   4   |\n",
      "|  10   |  10   |  122  | +1.0630e-02 | 2.88e+01 | 1.36e+01 | 0.00e+00 | 1.77e+04 |  1.00e-01   |   4   |\n",
      "|  11   |  11   |  129  | +5.1729e-03 | 2.88e+01 | 1.11e+01 | 0.00e+00 | 1.77e+04 |  1.00e-01   |   4   |\n",
      "|  12   |  12   |  151  | +2.6711e-03 | 2.88e+01 | 9.96e+00 | 0.00e+00 | 1.77e+04 |  1.00e-01   |   4   |\n",
      "|  13   |  13   |  174  | +1.7757e-03 | 2.88e+01 | 7.25e+00 | 0.00e+00 | 1.77e+04 |  1.00e-01   |   4   |\n",
      "|  14   |  14   |  183  | +1.2142e-03 | 2.88e+01 | 5.20e+00 | 0.00e+00 | 1.77e+04 |  1.00e-01   |   4   |\n",
      "|  15   |  15   |  202  | +1.2291e-03 | 2.88e+01 | 7.15e+00 | 0.00e+00 | 1.77e+04 |  1.00e-01   |   4   |\n",
      "|  16   |  16   |  227  | +1.8391e-03 | 2.88e+01 | 8.89e+00 | 0.00e+00 | 1.77e+04 |  1.00e-01   |   4   |\n",
      "|  17   |  17   |  254  | +3.7137e-03 | 2.88e+01 | 1.35e+01 | 0.00e+00 | 1.77e+04 |  1.00e-01   |   4   |\n",
      "|  18   |  18   |  264  | +2.1973e-03 | 2.88e+01 | 9.89e+00 | 0.00e+00 | 1.77e+04 |  1.00e-01   |   4   |\n",
      "|  19   |  19   |  295  | +6.6532e-03 | 2.88e+01 | 1.28e+01 | 0.00e+00 | 1.77e+04 |  1.00e-01   |   4   |\n",
      "|  20   |  20   |  302  | +5.3160e-03 | 2.88e+01 | 1.33e+01 | 0.00e+00 | 1.77e+04 |  1.00e-01   |   4   |\n",
      "|  21   |  21   |  331  | +8.5679e-03 | 2.88e+01 | 1.97e+01 | 0.00e+00 | 1.77e+04 |  1.00e-01   |   4   |\n",
      "|  22   |  22   |  343  | +4.3102e-03 | 2.88e+01 | 1.39e+01 | 0.00e+00 | 1.77e+04 |  1.00e-01   |   4   |\n",
      "|  23   |  23   |  378  | +1.8451e-02 | 2.88e+01 | 3.05e+01 | 0.00e+00 | 1.77e+04 |  1.00e-01   |   4   |\n",
      "|  24   |  24   |  389  | +1.1086e-02 | 2.88e+01 | 2.02e+01 | 0.00e+00 | 1.77e+04 |  1.00e-01   |   4   |\n",
      "|  25   |  25   |  426  | +5.9540e-02 | 2.88e+01 | 3.82e+01 | 0.00e+00 | 1.77e+04 |  1.00e-01   |   4   |\n",
      "|  26   |  26   |  433  | +4.6699e-02 | 2.88e+01 | 3.04e+01 | 0.00e+00 | 1.77e+04 |  1.00e-01   |   4   |\n",
      "|  27   |  27   |  440  | +2.6066e-02 | 2.88e+01 | 2.57e+01 | 0.00e+00 | 1.77e+04 |  1.00e-01   |   4   |\n",
      "|  28   |  28   |  478  | +1.1124e-01 | 2.88e+01 | 5.76e+01 | 0.00e+00 | 1.77e+04 |  1.00e-01   |   4   |\n",
      "|  29   |  29   |  490  | +7.6280e-02 | 2.88e+01 | 4.89e+01 | 0.00e+00 | 1.77e+04 |  1.00e-01   |   4   |\n"
     ]
    },
    {
     "ename": "KeyboardInterrupt",
     "evalue": "",
     "output_type": "error",
     "traceback": [
      "\u001b[0;31m---------------------------------------------------------------------------\u001b[0m",
      "\u001b[0;31mKeyboardInterrupt\u001b[0m                         Traceback (most recent call last)",
      "File \u001b[0;32m<timed exec>:22\u001b[0m\n",
      "File \u001b[0;32m<timed exec>:17\u001b[0m, in \u001b[0;36mmoment_LS\u001b[0;34m(x0, quadrature_rules, Phi_precomps, Psi_precomps, m1_emp, m2_emp, m3_emp, A_constr, b_constr, l1, l2, l3)\u001b[0m\n",
      "File \u001b[0;32m~/local_software/anaconda3/envs/aspire/lib/python3.9/site-packages/scipy/optimize/_minimize.py:725\u001b[0m, in \u001b[0;36mminimize\u001b[0;34m(fun, x0, args, method, jac, hess, hessp, bounds, constraints, tol, callback, options)\u001b[0m\n\u001b[1;32m    722\u001b[0m     res \u001b[38;5;241m=\u001b[39m _minimize_slsqp(fun, x0, args, jac, bounds,\n\u001b[1;32m    723\u001b[0m                           constraints, callback\u001b[38;5;241m=\u001b[39mcallback, \u001b[38;5;241m*\u001b[39m\u001b[38;5;241m*\u001b[39moptions)\n\u001b[1;32m    724\u001b[0m \u001b[38;5;28;01melif\u001b[39;00m meth \u001b[38;5;241m==\u001b[39m \u001b[38;5;124m'\u001b[39m\u001b[38;5;124mtrust-constr\u001b[39m\u001b[38;5;124m'\u001b[39m:\n\u001b[0;32m--> 725\u001b[0m     res \u001b[38;5;241m=\u001b[39m \u001b[43m_minimize_trustregion_constr\u001b[49m\u001b[43m(\u001b[49m\u001b[43mfun\u001b[49m\u001b[43m,\u001b[49m\u001b[43m \u001b[49m\u001b[43mx0\u001b[49m\u001b[43m,\u001b[49m\u001b[43m \u001b[49m\u001b[43margs\u001b[49m\u001b[43m,\u001b[49m\u001b[43m \u001b[49m\u001b[43mjac\u001b[49m\u001b[43m,\u001b[49m\u001b[43m \u001b[49m\u001b[43mhess\u001b[49m\u001b[43m,\u001b[49m\u001b[43m \u001b[49m\u001b[43mhessp\u001b[49m\u001b[43m,\u001b[49m\n\u001b[1;32m    726\u001b[0m \u001b[43m                                       \u001b[49m\u001b[43mbounds\u001b[49m\u001b[43m,\u001b[49m\u001b[43m \u001b[49m\u001b[43mconstraints\u001b[49m\u001b[43m,\u001b[49m\n\u001b[1;32m    727\u001b[0m \u001b[43m                                       \u001b[49m\u001b[43mcallback\u001b[49m\u001b[38;5;241;43m=\u001b[39;49m\u001b[43mcallback\u001b[49m\u001b[43m,\u001b[49m\u001b[43m \u001b[49m\u001b[38;5;241;43m*\u001b[39;49m\u001b[38;5;241;43m*\u001b[39;49m\u001b[43moptions\u001b[49m\u001b[43m)\u001b[49m\n\u001b[1;32m    728\u001b[0m \u001b[38;5;28;01melif\u001b[39;00m meth \u001b[38;5;241m==\u001b[39m \u001b[38;5;124m'\u001b[39m\u001b[38;5;124mdogleg\u001b[39m\u001b[38;5;124m'\u001b[39m:\n\u001b[1;32m    729\u001b[0m     res \u001b[38;5;241m=\u001b[39m _minimize_dogleg(fun, x0, args, jac, hess,\n\u001b[1;32m    730\u001b[0m                            callback\u001b[38;5;241m=\u001b[39mcallback, \u001b[38;5;241m*\u001b[39m\u001b[38;5;241m*\u001b[39moptions)\n",
      "File \u001b[0;32m~/local_software/anaconda3/envs/aspire/lib/python3.9/site-packages/scipy/optimize/_trustregion_constr/minimize_trustregion_constr.py:528\u001b[0m, in \u001b[0;36m_minimize_trustregion_constr\u001b[0;34m(fun, x0, args, grad, hess, hessp, bounds, constraints, xtol, gtol, barrier_tol, sparse_jacobian, callback, maxiter, verbose, finite_diff_rel_step, initial_constr_penalty, initial_tr_radius, initial_barrier_parameter, initial_barrier_tolerance, factorization_method, disp)\u001b[0m\n\u001b[1;32m    519\u001b[0m     _, result \u001b[38;5;241m=\u001b[39m equality_constrained_sqp(\n\u001b[1;32m    520\u001b[0m         fun_and_constr, grad_and_jac, lagrangian_hess,\n\u001b[1;32m    521\u001b[0m         x0, objective\u001b[38;5;241m.\u001b[39mf, objective\u001b[38;5;241m.\u001b[39mg,\n\u001b[0;32m   (...)\u001b[0m\n\u001b[1;32m    524\u001b[0m         initial_constr_penalty, initial_tr_radius,\n\u001b[1;32m    525\u001b[0m         factorization_method)\n\u001b[1;32m    527\u001b[0m \u001b[38;5;28;01melif\u001b[39;00m method \u001b[38;5;241m==\u001b[39m \u001b[38;5;124m'\u001b[39m\u001b[38;5;124mtr_interior_point\u001b[39m\u001b[38;5;124m'\u001b[39m:\n\u001b[0;32m--> 528\u001b[0m     _, result \u001b[38;5;241m=\u001b[39m \u001b[43mtr_interior_point\u001b[49m\u001b[43m(\u001b[49m\n\u001b[1;32m    529\u001b[0m \u001b[43m        \u001b[49m\u001b[43mobjective\u001b[49m\u001b[38;5;241;43m.\u001b[39;49m\u001b[43mfun\u001b[49m\u001b[43m,\u001b[49m\u001b[43m \u001b[49m\u001b[43mobjective\u001b[49m\u001b[38;5;241;43m.\u001b[39;49m\u001b[43mgrad\u001b[49m\u001b[43m,\u001b[49m\u001b[43m \u001b[49m\u001b[43mlagrangian_hess\u001b[49m\u001b[43m,\u001b[49m\n\u001b[1;32m    530\u001b[0m \u001b[43m        \u001b[49m\u001b[43mn_vars\u001b[49m\u001b[43m,\u001b[49m\u001b[43m \u001b[49m\u001b[43mcanonical\u001b[49m\u001b[38;5;241;43m.\u001b[39;49m\u001b[43mn_ineq\u001b[49m\u001b[43m,\u001b[49m\u001b[43m \u001b[49m\u001b[43mcanonical\u001b[49m\u001b[38;5;241;43m.\u001b[39;49m\u001b[43mn_eq\u001b[49m\u001b[43m,\u001b[49m\n\u001b[1;32m    531\u001b[0m \u001b[43m        \u001b[49m\u001b[43mcanonical\u001b[49m\u001b[38;5;241;43m.\u001b[39;49m\u001b[43mfun\u001b[49m\u001b[43m,\u001b[49m\u001b[43m \u001b[49m\u001b[43mcanonical\u001b[49m\u001b[38;5;241;43m.\u001b[39;49m\u001b[43mjac\u001b[49m\u001b[43m,\u001b[49m\n\u001b[1;32m    532\u001b[0m \u001b[43m        \u001b[49m\u001b[43mx0\u001b[49m\u001b[43m,\u001b[49m\u001b[43m \u001b[49m\u001b[43mobjective\u001b[49m\u001b[38;5;241;43m.\u001b[39;49m\u001b[43mf\u001b[49m\u001b[43m,\u001b[49m\u001b[43m \u001b[49m\u001b[43mobjective\u001b[49m\u001b[38;5;241;43m.\u001b[39;49m\u001b[43mg\u001b[49m\u001b[43m,\u001b[49m\n\u001b[1;32m    533\u001b[0m \u001b[43m        \u001b[49m\u001b[43mc_ineq0\u001b[49m\u001b[43m,\u001b[49m\u001b[43m \u001b[49m\u001b[43mJ_ineq0\u001b[49m\u001b[43m,\u001b[49m\u001b[43m \u001b[49m\u001b[43mc_eq0\u001b[49m\u001b[43m,\u001b[49m\u001b[43m \u001b[49m\u001b[43mJ_eq0\u001b[49m\u001b[43m,\u001b[49m\n\u001b[1;32m    534\u001b[0m \u001b[43m        \u001b[49m\u001b[43mstop_criteria\u001b[49m\u001b[43m,\u001b[49m\n\u001b[1;32m    535\u001b[0m \u001b[43m        \u001b[49m\u001b[43mcanonical\u001b[49m\u001b[38;5;241;43m.\u001b[39;49m\u001b[43mkeep_feasible\u001b[49m\u001b[43m,\u001b[49m\n\u001b[1;32m    536\u001b[0m \u001b[43m        \u001b[49m\u001b[43mxtol\u001b[49m\u001b[43m,\u001b[49m\u001b[43m \u001b[49m\u001b[43mstate\u001b[49m\u001b[43m,\u001b[49m\u001b[43m \u001b[49m\u001b[43minitial_barrier_parameter\u001b[49m\u001b[43m,\u001b[49m\n\u001b[1;32m    537\u001b[0m \u001b[43m        \u001b[49m\u001b[43minitial_barrier_tolerance\u001b[49m\u001b[43m,\u001b[49m\n\u001b[1;32m    538\u001b[0m \u001b[43m        \u001b[49m\u001b[43minitial_constr_penalty\u001b[49m\u001b[43m,\u001b[49m\u001b[43m \u001b[49m\u001b[43minitial_tr_radius\u001b[49m\u001b[43m,\u001b[49m\n\u001b[1;32m    539\u001b[0m \u001b[43m        \u001b[49m\u001b[43mfactorization_method\u001b[49m\u001b[43m)\u001b[49m\n\u001b[1;32m    541\u001b[0m \u001b[38;5;66;03m# Status 3 occurs when the callback function requests termination,\u001b[39;00m\n\u001b[1;32m    542\u001b[0m \u001b[38;5;66;03m# this is assumed to not be a success.\u001b[39;00m\n\u001b[1;32m    543\u001b[0m result\u001b[38;5;241m.\u001b[39msuccess \u001b[38;5;241m=\u001b[39m \u001b[38;5;28;01mTrue\u001b[39;00m \u001b[38;5;28;01mif\u001b[39;00m result\u001b[38;5;241m.\u001b[39mstatus \u001b[38;5;129;01min\u001b[39;00m (\u001b[38;5;241m1\u001b[39m, \u001b[38;5;241m2\u001b[39m) \u001b[38;5;28;01melse\u001b[39;00m \u001b[38;5;28;01mFalse\u001b[39;00m\n",
      "File \u001b[0;32m~/local_software/anaconda3/envs/aspire/lib/python3.9/site-packages/scipy/optimize/_trustregion_constr/tr_interior_point.py:321\u001b[0m, in \u001b[0;36mtr_interior_point\u001b[0;34m(fun, grad, lagr_hess, n_vars, n_ineq, n_eq, constr, jac, x0, fun0, grad0, constr_ineq0, jac_ineq0, constr_eq0, jac_eq0, stop_criteria, enforce_feasibility, xtol, state, initial_barrier_parameter, initial_tolerance, initial_penalty, initial_trust_radius, factorization_method)\u001b[0m\n\u001b[1;32m    318\u001b[0m \u001b[38;5;66;03m# Solves a sequence of barrier problems\u001b[39;00m\n\u001b[1;32m    319\u001b[0m \u001b[38;5;28;01mwhile\u001b[39;00m \u001b[38;5;28;01mTrue\u001b[39;00m:\n\u001b[1;32m    320\u001b[0m     \u001b[38;5;66;03m# Solve SQP subproblem\u001b[39;00m\n\u001b[0;32m--> 321\u001b[0m     z, state \u001b[38;5;241m=\u001b[39m \u001b[43mequality_constrained_sqp\u001b[49m\u001b[43m(\u001b[49m\n\u001b[1;32m    322\u001b[0m \u001b[43m        \u001b[49m\u001b[43msubprob\u001b[49m\u001b[38;5;241;43m.\u001b[39;49m\u001b[43mfunction_and_constraints\u001b[49m\u001b[43m,\u001b[49m\n\u001b[1;32m    323\u001b[0m \u001b[43m        \u001b[49m\u001b[43msubprob\u001b[49m\u001b[38;5;241;43m.\u001b[39;49m\u001b[43mgradient_and_jacobian\u001b[49m\u001b[43m,\u001b[49m\n\u001b[1;32m    324\u001b[0m \u001b[43m        \u001b[49m\u001b[43msubprob\u001b[49m\u001b[38;5;241;43m.\u001b[39;49m\u001b[43mlagrangian_hessian\u001b[49m\u001b[43m,\u001b[49m\n\u001b[1;32m    325\u001b[0m \u001b[43m        \u001b[49m\u001b[43mz\u001b[49m\u001b[43m,\u001b[49m\u001b[43m \u001b[49m\u001b[43mfun0_subprob\u001b[49m\u001b[43m,\u001b[49m\u001b[43m \u001b[49m\u001b[43mgrad0_subprob\u001b[49m\u001b[43m,\u001b[49m\n\u001b[1;32m    326\u001b[0m \u001b[43m        \u001b[49m\u001b[43mconstr0_subprob\u001b[49m\u001b[43m,\u001b[49m\u001b[43m \u001b[49m\u001b[43mjac0_subprob\u001b[49m\u001b[43m,\u001b[49m\u001b[43m \u001b[49m\u001b[43msubprob\u001b[49m\u001b[38;5;241;43m.\u001b[39;49m\u001b[43mstop_criteria\u001b[49m\u001b[43m,\u001b[49m\n\u001b[1;32m    327\u001b[0m \u001b[43m        \u001b[49m\u001b[43mstate\u001b[49m\u001b[43m,\u001b[49m\u001b[43m \u001b[49m\u001b[43minitial_penalty\u001b[49m\u001b[43m,\u001b[49m\u001b[43m \u001b[49m\u001b[43mtrust_radius\u001b[49m\u001b[43m,\u001b[49m\n\u001b[1;32m    328\u001b[0m \u001b[43m        \u001b[49m\u001b[43mfactorization_method\u001b[49m\u001b[43m,\u001b[49m\u001b[43m \u001b[49m\u001b[43mtrust_lb\u001b[49m\u001b[43m,\u001b[49m\u001b[43m \u001b[49m\u001b[43mtrust_ub\u001b[49m\u001b[43m,\u001b[49m\u001b[43m \u001b[49m\u001b[43msubprob\u001b[49m\u001b[38;5;241;43m.\u001b[39;49m\u001b[43mscaling\u001b[49m\u001b[43m)\u001b[49m\n\u001b[1;32m    329\u001b[0m     \u001b[38;5;28;01mif\u001b[39;00m subprob\u001b[38;5;241m.\u001b[39mterminate:\n\u001b[1;32m    330\u001b[0m         \u001b[38;5;28;01mbreak\u001b[39;00m\n",
      "File \u001b[0;32m~/local_software/anaconda3/envs/aspire/lib/python3.9/site-packages/scipy/optimize/_trustregion_constr/equality_constrained_sqp.py:118\u001b[0m, in \u001b[0;36mequality_constrained_sqp\u001b[0;34m(fun_and_constr, grad_and_jac, lagr_hess, x0, fun0, grad0, constr0, jac0, stop_criteria, state, initial_penalty, initial_trust_radius, factorization_method, trust_lb, trust_ub, scaling)\u001b[0m\n\u001b[1;32m    116\u001b[0m lb_t \u001b[38;5;241m=\u001b[39m trust_lb \u001b[38;5;241m-\u001b[39m dn\n\u001b[1;32m    117\u001b[0m ub_t \u001b[38;5;241m=\u001b[39m trust_ub \u001b[38;5;241m-\u001b[39m dn\n\u001b[0;32m--> 118\u001b[0m dt, cg_info \u001b[38;5;241m=\u001b[39m \u001b[43mprojected_cg\u001b[49m\u001b[43m(\u001b[49m\u001b[43mH\u001b[49m\u001b[43m,\u001b[49m\u001b[43m \u001b[49m\u001b[43mc_t\u001b[49m\u001b[43m,\u001b[49m\u001b[43m \u001b[49m\u001b[43mZ\u001b[49m\u001b[43m,\u001b[49m\u001b[43m \u001b[49m\u001b[43mY\u001b[49m\u001b[43m,\u001b[49m\u001b[43m \u001b[49m\u001b[43mb_t\u001b[49m\u001b[43m,\u001b[49m\n\u001b[1;32m    119\u001b[0m \u001b[43m                           \u001b[49m\u001b[43mtrust_radius_t\u001b[49m\u001b[43m,\u001b[49m\n\u001b[1;32m    120\u001b[0m \u001b[43m                           \u001b[49m\u001b[43mlb_t\u001b[49m\u001b[43m,\u001b[49m\u001b[43m \u001b[49m\u001b[43mub_t\u001b[49m\u001b[43m)\u001b[49m\n\u001b[1;32m    122\u001b[0m \u001b[38;5;66;03m# Compute update (normal + tangential steps).\u001b[39;00m\n\u001b[1;32m    123\u001b[0m d \u001b[38;5;241m=\u001b[39m dn \u001b[38;5;241m+\u001b[39m dt\n",
      "File \u001b[0;32m~/local_software/anaconda3/envs/aspire/lib/python3.9/site-packages/scipy/optimize/_trustregion_constr/qp_subproblem.py:628\u001b[0m, in \u001b[0;36mprojected_cg\u001b[0;34m(H, c, Z, Y, b, trust_radius, lb, ub, tol, max_iter, max_infeasible_iter, return_all)\u001b[0m\n\u001b[1;32m    626\u001b[0m     r \u001b[38;5;241m=\u001b[39m g_next\n\u001b[1;32m    627\u001b[0m     rt_g \u001b[38;5;241m=\u001b[39m norm(g)\u001b[38;5;241m*\u001b[39m\u001b[38;5;241m*\u001b[39m\u001b[38;5;241m2\u001b[39m  \u001b[38;5;66;03m# g.T g = r.T Z g = r.T g (ref [1]_ p.1389)\u001b[39;00m\n\u001b[0;32m--> 628\u001b[0m     H_p \u001b[38;5;241m=\u001b[39m \u001b[43mH\u001b[49m\u001b[38;5;241;43m.\u001b[39;49m\u001b[43mdot\u001b[49m\u001b[43m(\u001b[49m\u001b[43mp\u001b[49m\u001b[43m)\u001b[49m\n\u001b[1;32m    630\u001b[0m \u001b[38;5;28;01mif\u001b[39;00m \u001b[38;5;129;01mnot\u001b[39;00m inside_box_boundaries(x, lb, ub):\n\u001b[1;32m    631\u001b[0m     x \u001b[38;5;241m=\u001b[39m last_feasible_x\n",
      "File \u001b[0;32m~/local_software/anaconda3/envs/aspire/lib/python3.9/site-packages/scipy/sparse/linalg/_interface.py:444\u001b[0m, in \u001b[0;36mLinearOperator.dot\u001b[0;34m(self, x)\u001b[0m\n\u001b[1;32m    441\u001b[0m     x \u001b[38;5;241m=\u001b[39m np\u001b[38;5;241m.\u001b[39masarray(x)\n\u001b[1;32m    443\u001b[0m \u001b[38;5;28;01mif\u001b[39;00m x\u001b[38;5;241m.\u001b[39mndim \u001b[38;5;241m==\u001b[39m \u001b[38;5;241m1\u001b[39m \u001b[38;5;129;01mor\u001b[39;00m x\u001b[38;5;241m.\u001b[39mndim \u001b[38;5;241m==\u001b[39m \u001b[38;5;241m2\u001b[39m \u001b[38;5;129;01mand\u001b[39;00m x\u001b[38;5;241m.\u001b[39mshape[\u001b[38;5;241m1\u001b[39m] \u001b[38;5;241m==\u001b[39m \u001b[38;5;241m1\u001b[39m:\n\u001b[0;32m--> 444\u001b[0m     \u001b[38;5;28;01mreturn\u001b[39;00m \u001b[38;5;28;43mself\u001b[39;49m\u001b[38;5;241;43m.\u001b[39;49m\u001b[43mmatvec\u001b[49m\u001b[43m(\u001b[49m\u001b[43mx\u001b[49m\u001b[43m)\u001b[49m\n\u001b[1;32m    445\u001b[0m \u001b[38;5;28;01melif\u001b[39;00m x\u001b[38;5;241m.\u001b[39mndim \u001b[38;5;241m==\u001b[39m \u001b[38;5;241m2\u001b[39m:\n\u001b[1;32m    446\u001b[0m     \u001b[38;5;28;01mreturn\u001b[39;00m \u001b[38;5;28mself\u001b[39m\u001b[38;5;241m.\u001b[39mmatmat(x)\n",
      "File \u001b[0;32m~/local_software/anaconda3/envs/aspire/lib/python3.9/site-packages/scipy/sparse/linalg/_interface.py:236\u001b[0m, in \u001b[0;36mLinearOperator.matvec\u001b[0;34m(self, x)\u001b[0m\n\u001b[1;32m    233\u001b[0m \u001b[38;5;28;01mif\u001b[39;00m x\u001b[38;5;241m.\u001b[39mshape \u001b[38;5;241m!=\u001b[39m (N,) \u001b[38;5;129;01mand\u001b[39;00m x\u001b[38;5;241m.\u001b[39mshape \u001b[38;5;241m!=\u001b[39m (N,\u001b[38;5;241m1\u001b[39m):\n\u001b[1;32m    234\u001b[0m     \u001b[38;5;28;01mraise\u001b[39;00m \u001b[38;5;167;01mValueError\u001b[39;00m(\u001b[38;5;124m'\u001b[39m\u001b[38;5;124mdimension mismatch\u001b[39m\u001b[38;5;124m'\u001b[39m)\n\u001b[0;32m--> 236\u001b[0m y \u001b[38;5;241m=\u001b[39m \u001b[38;5;28;43mself\u001b[39;49m\u001b[38;5;241;43m.\u001b[39;49m\u001b[43m_matvec\u001b[49m\u001b[43m(\u001b[49m\u001b[43mx\u001b[49m\u001b[43m)\u001b[49m\n\u001b[1;32m    238\u001b[0m \u001b[38;5;28;01mif\u001b[39;00m \u001b[38;5;28misinstance\u001b[39m(x, np\u001b[38;5;241m.\u001b[39mmatrix):\n\u001b[1;32m    239\u001b[0m     y \u001b[38;5;241m=\u001b[39m asmatrix(y)\n",
      "File \u001b[0;32m~/local_software/anaconda3/envs/aspire/lib/python3.9/site-packages/scipy/sparse/linalg/_interface.py:593\u001b[0m, in \u001b[0;36m_CustomLinearOperator._matvec\u001b[0;34m(self, x)\u001b[0m\n\u001b[1;32m    592\u001b[0m \u001b[38;5;28;01mdef\u001b[39;00m\u001b[38;5;250m \u001b[39m\u001b[38;5;21m_matvec\u001b[39m(\u001b[38;5;28mself\u001b[39m, x):\n\u001b[0;32m--> 593\u001b[0m     \u001b[38;5;28;01mreturn\u001b[39;00m \u001b[38;5;28;43mself\u001b[39;49m\u001b[38;5;241;43m.\u001b[39;49m\u001b[43m__matvec_impl\u001b[49m\u001b[43m(\u001b[49m\u001b[43mx\u001b[49m\u001b[43m)\u001b[49m\n",
      "File \u001b[0;32m~/local_software/anaconda3/envs/aspire/lib/python3.9/site-packages/scipy/optimize/_trustregion_constr/tr_interior_point.py:236\u001b[0m, in \u001b[0;36mBarrierSubproblem.lagrangian_hessian.<locals>.matvec\u001b[0;34m(vec)\u001b[0m\n\u001b[1;32m    234\u001b[0m vec_s \u001b[38;5;241m=\u001b[39m \u001b[38;5;28mself\u001b[39m\u001b[38;5;241m.\u001b[39mget_slack(vec)\n\u001b[1;32m    235\u001b[0m \u001b[38;5;28;01mif\u001b[39;00m \u001b[38;5;28mself\u001b[39m\u001b[38;5;241m.\u001b[39mn_ineq \u001b[38;5;241m>\u001b[39m \u001b[38;5;241m0\u001b[39m:\n\u001b[0;32m--> 236\u001b[0m     \u001b[38;5;28;01mreturn\u001b[39;00m np\u001b[38;5;241m.\u001b[39mhstack((\u001b[43mHx\u001b[49m\u001b[38;5;241;43m.\u001b[39;49m\u001b[43mdot\u001b[49m\u001b[43m(\u001b[49m\u001b[43mvec_x\u001b[49m\u001b[43m)\u001b[49m, S_Hs_S\u001b[38;5;241m*\u001b[39mvec_s))\n\u001b[1;32m    237\u001b[0m \u001b[38;5;28;01melse\u001b[39;00m:\n\u001b[1;32m    238\u001b[0m     \u001b[38;5;28;01mreturn\u001b[39;00m Hx\u001b[38;5;241m.\u001b[39mdot(vec_x)\n",
      "File \u001b[0;32m~/local_software/anaconda3/envs/aspire/lib/python3.9/site-packages/scipy/sparse/linalg/_interface.py:444\u001b[0m, in \u001b[0;36mLinearOperator.dot\u001b[0;34m(self, x)\u001b[0m\n\u001b[1;32m    441\u001b[0m     x \u001b[38;5;241m=\u001b[39m np\u001b[38;5;241m.\u001b[39masarray(x)\n\u001b[1;32m    443\u001b[0m \u001b[38;5;28;01mif\u001b[39;00m x\u001b[38;5;241m.\u001b[39mndim \u001b[38;5;241m==\u001b[39m \u001b[38;5;241m1\u001b[39m \u001b[38;5;129;01mor\u001b[39;00m x\u001b[38;5;241m.\u001b[39mndim \u001b[38;5;241m==\u001b[39m \u001b[38;5;241m2\u001b[39m \u001b[38;5;129;01mand\u001b[39;00m x\u001b[38;5;241m.\u001b[39mshape[\u001b[38;5;241m1\u001b[39m] \u001b[38;5;241m==\u001b[39m \u001b[38;5;241m1\u001b[39m:\n\u001b[0;32m--> 444\u001b[0m     \u001b[38;5;28;01mreturn\u001b[39;00m \u001b[38;5;28;43mself\u001b[39;49m\u001b[38;5;241;43m.\u001b[39;49m\u001b[43mmatvec\u001b[49m\u001b[43m(\u001b[49m\u001b[43mx\u001b[49m\u001b[43m)\u001b[49m\n\u001b[1;32m    445\u001b[0m \u001b[38;5;28;01melif\u001b[39;00m x\u001b[38;5;241m.\u001b[39mndim \u001b[38;5;241m==\u001b[39m \u001b[38;5;241m2\u001b[39m:\n\u001b[1;32m    446\u001b[0m     \u001b[38;5;28;01mreturn\u001b[39;00m \u001b[38;5;28mself\u001b[39m\u001b[38;5;241m.\u001b[39mmatmat(x)\n",
      "File \u001b[0;32m~/local_software/anaconda3/envs/aspire/lib/python3.9/site-packages/scipy/sparse/linalg/_interface.py:236\u001b[0m, in \u001b[0;36mLinearOperator.matvec\u001b[0;34m(self, x)\u001b[0m\n\u001b[1;32m    233\u001b[0m \u001b[38;5;28;01mif\u001b[39;00m x\u001b[38;5;241m.\u001b[39mshape \u001b[38;5;241m!=\u001b[39m (N,) \u001b[38;5;129;01mand\u001b[39;00m x\u001b[38;5;241m.\u001b[39mshape \u001b[38;5;241m!=\u001b[39m (N,\u001b[38;5;241m1\u001b[39m):\n\u001b[1;32m    234\u001b[0m     \u001b[38;5;28;01mraise\u001b[39;00m \u001b[38;5;167;01mValueError\u001b[39;00m(\u001b[38;5;124m'\u001b[39m\u001b[38;5;124mdimension mismatch\u001b[39m\u001b[38;5;124m'\u001b[39m)\n\u001b[0;32m--> 236\u001b[0m y \u001b[38;5;241m=\u001b[39m \u001b[38;5;28;43mself\u001b[39;49m\u001b[38;5;241;43m.\u001b[39;49m\u001b[43m_matvec\u001b[49m\u001b[43m(\u001b[49m\u001b[43mx\u001b[49m\u001b[43m)\u001b[49m\n\u001b[1;32m    238\u001b[0m \u001b[38;5;28;01mif\u001b[39;00m \u001b[38;5;28misinstance\u001b[39m(x, np\u001b[38;5;241m.\u001b[39mmatrix):\n\u001b[1;32m    239\u001b[0m     y \u001b[38;5;241m=\u001b[39m asmatrix(y)\n",
      "File \u001b[0;32m~/local_software/anaconda3/envs/aspire/lib/python3.9/site-packages/scipy/sparse/linalg/_interface.py:593\u001b[0m, in \u001b[0;36m_CustomLinearOperator._matvec\u001b[0;34m(self, x)\u001b[0m\n\u001b[1;32m    592\u001b[0m \u001b[38;5;28;01mdef\u001b[39;00m\u001b[38;5;250m \u001b[39m\u001b[38;5;21m_matvec\u001b[39m(\u001b[38;5;28mself\u001b[39m, x):\n\u001b[0;32m--> 593\u001b[0m     \u001b[38;5;28;01mreturn\u001b[39;00m \u001b[38;5;28;43mself\u001b[39;49m\u001b[38;5;241;43m.\u001b[39;49m\u001b[43m__matvec_impl\u001b[49m\u001b[43m(\u001b[49m\u001b[43mx\u001b[49m\u001b[43m)\u001b[49m\n",
      "File \u001b[0;32m~/local_software/anaconda3/envs/aspire/lib/python3.9/site-packages/scipy/optimize/_trustregion_constr/minimize_trustregion_constr.py:54\u001b[0m, in \u001b[0;36mLagrangianHessian.__call__.<locals>.matvec\u001b[0;34m(p)\u001b[0m\n\u001b[1;32m     53\u001b[0m \u001b[38;5;28;01mdef\u001b[39;00m\u001b[38;5;250m \u001b[39m\u001b[38;5;21mmatvec\u001b[39m(p):\n\u001b[0;32m---> 54\u001b[0m     \u001b[38;5;28;01mreturn\u001b[39;00m \u001b[43mH_objective\u001b[49m\u001b[38;5;241;43m.\u001b[39;49m\u001b[43mdot\u001b[49m\u001b[43m(\u001b[49m\u001b[43mp\u001b[49m\u001b[43m)\u001b[49m \u001b[38;5;241m+\u001b[39m H_constraints\u001b[38;5;241m.\u001b[39mdot(p)\n",
      "File \u001b[0;32m~/local_software/anaconda3/envs/aspire/lib/python3.9/site-packages/scipy/optimize/_hessian_update_strategy.py:218\u001b[0m, in \u001b[0;36mFullHessianUpdateStrategy.dot\u001b[0;34m(self, p)\u001b[0m\n\u001b[1;32m    204\u001b[0m \u001b[38;5;250m\u001b[39m\u001b[38;5;124;03m\"\"\"Compute the product of the internal matrix with the given vector.\u001b[39;00m\n\u001b[1;32m    205\u001b[0m \n\u001b[1;32m    206\u001b[0m \u001b[38;5;124;03mParameters\u001b[39;00m\n\u001b[0;32m   (...)\u001b[0m\n\u001b[1;32m    215\u001b[0m \u001b[38;5;124;03m    by vector p.\u001b[39;00m\n\u001b[1;32m    216\u001b[0m \u001b[38;5;124;03m\"\"\"\u001b[39;00m\n\u001b[1;32m    217\u001b[0m \u001b[38;5;28;01mif\u001b[39;00m \u001b[38;5;28mself\u001b[39m\u001b[38;5;241m.\u001b[39mapprox_type \u001b[38;5;241m==\u001b[39m \u001b[38;5;124m'\u001b[39m\u001b[38;5;124mhess\u001b[39m\u001b[38;5;124m'\u001b[39m:\n\u001b[0;32m--> 218\u001b[0m     \u001b[38;5;28;01mreturn\u001b[39;00m \u001b[38;5;28;43mself\u001b[39;49m\u001b[38;5;241;43m.\u001b[39;49m\u001b[43m_symv\u001b[49m\u001b[43m(\u001b[49m\u001b[38;5;241;43m1\u001b[39;49m\u001b[43m,\u001b[49m\u001b[43m \u001b[49m\u001b[38;5;28;43mself\u001b[39;49m\u001b[38;5;241;43m.\u001b[39;49m\u001b[43mB\u001b[49m\u001b[43m,\u001b[49m\u001b[43m \u001b[49m\u001b[43mp\u001b[49m\u001b[43m)\u001b[49m\n\u001b[1;32m    219\u001b[0m \u001b[38;5;28;01melse\u001b[39;00m:\n\u001b[1;32m    220\u001b[0m     \u001b[38;5;28;01mreturn\u001b[39;00m \u001b[38;5;28mself\u001b[39m\u001b[38;5;241m.\u001b[39m_symv(\u001b[38;5;241m1\u001b[39m, \u001b[38;5;28mself\u001b[39m\u001b[38;5;241m.\u001b[39mH, p)\n",
      "\u001b[0;31mKeyboardInterrupt\u001b[0m: "
     ]
    }
   ],
   "source": [
    "# %%time \n",
    "# from scipy.optimize import LinearConstraint\n",
    "\n",
    "# def moment_LS(x0, quadrature_rules, Phi_precomps, Psi_precomps, m1_emp, m2_emp, m3_emp, A_constr, b_constr, l1=None, l2=None, l3=None):\n",
    "    \n",
    "#     if l1 is None:\n",
    "#         l1 = LA.norm(m1_emp.flatten())**2\n",
    "#     if l2 is None:\n",
    "#         l2 = LA.norm(m2_emp.flatten())**2\n",
    "#     if l3 is None:\n",
    "#         l3 = LA.norm(m3_emp.flatten())**2\n",
    "    \n",
    "#     # linear_constraint = {'type': 'ineq', 'fun': lambda x: b_constr - A_constr @ x}\n",
    "#     linear_constraint = LinearConstraint(A_constr, -np.inf, b_constr)\n",
    "#     objective = lambda x: find_cost_grad(x, quadrature_rules, Phi_precomps, Psi_precomps, m1_emp, m2_emp, m3_emp, l1, l2, l3)\n",
    "#     # options = {'disp':True, 'iprint':3, 'maxiter':200}\n",
    "#     options = {'disp':True, 'verbose':3, 'maxiter':200,'initial_tr_radius': 1.0}\n",
    "#     result = minimize(objective, x0, method='trust-constr', jac=True, constraints=[linear_constraint], options=options)\n",
    "\n",
    "#     return result \n",
    "\n",
    "\n",
    "# res = moment_LS(x0, quadrature_rules, Phi_precomps, Psi_precomps, m1_emp, m2_emp, m3_emp, A_constr, rhs, l1=None, l2=None, l3=0)"
   ]
  }
 ],
 "metadata": {
  "kernelspec": {
   "display_name": "aspire",
   "language": "python",
   "name": "aspire"
  },
  "language_info": {
   "codemirror_mode": {
    "name": "ipython",
    "version": 3
   },
   "file_extension": ".py",
   "mimetype": "text/x-python",
   "name": "python",
   "nbconvert_exporter": "python",
   "pygments_lexer": "ipython3",
   "version": "3.9.21"
  }
 },
 "nbformat": 4,
 "nbformat_minor": 4
}
