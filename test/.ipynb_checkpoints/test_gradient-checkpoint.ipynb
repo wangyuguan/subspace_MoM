{
 "cells": [
  {
   "cell_type": "code",
   "execution_count": null,
   "metadata": {},
   "outputs": [],
   "source": [
    "import sys\n",
    "from pathlib import Path\n",
    "\n",
    "# Add the 'src' directory to the Python path\n",
    "src_path = Path('../src').resolve()\n",
    "sys.path.append(str(src_path))\n",
    "\n",
    "from aspire.volume import Volume\n",
    "import numpy as np \n",
    "import numpy.linalg as LA \n",
    "import mrcfile \n",
    "from utils import * \n",
    "from viewing_direction import * \n",
    "from volume import * \n",
    "from moments import * \n",
    "\n",
    "\n",
    "import jax\n",
    "import jax.numpy as jnp\n",
    "from jax import grad, jit \n",
    "from jax.numpy.linalg import norm"
   ]
  },
  {
   "cell_type": "code",
   "execution_count": null,
   "metadata": {},
   "outputs": [],
   "source": [
    "%%time\n",
    "\n",
    "# generate view distribution\n",
    "c = 10\n",
    "centers = np.random.normal(0,1,size=(c,3))\n",
    "centers /= LA.norm(centers, axis=1, keepdims=True)\n",
    "w_vmf = np.random.uniform(0,1,c)\n",
    "w_vmf = w_vmf/np.sum(w_vmf)\n",
    "kappa = 5\n",
    "\n",
    "def my_fun(th,ph):\n",
    "    grid = Grid_3d(type='spherical', ths=np.array([th]),phs=np.array([ph]))\n",
    "    return 4*np.pi*vMF_density(centers,w_vmf,kappa,grid)[0]\n",
    "\n",
    "ell_max_half_view = 3\n",
    "sph_coef, indices = sph_harm_transform(my_fun, ell_max_half_view)\n",
    "rot_coef = sph_t_rot_coef(sph_coef, ell_max_half_view)\n",
    "rot_coef[0] = 1\n",
    "sph_r_t_c , sph_c_t_r =  get_sph_r_t_c_mat(ell_max_half_view)\n",
    "b = np.real(sph_c_t_r @ rot_coef)\n",
    "rot_coef = sph_r_t_c @ b\n",
    "b = b[1:]"
   ]
  },
  {
   "cell_type": "code",
   "execution_count": null,
   "metadata": {},
   "outputs": [],
   "source": [
    "%%time\n",
    "\n",
    "# get the spherical FB coefficient of the volume\n",
    "with mrcfile.open('../data/emd_34948.map') as mrc:\n",
    "    data = mrc.data\n",
    "\n",
    "data = data/LA.norm(data.flatten())\n",
    "Vol = Volume(data)\n",
    "ds_res = 64 \n",
    "Vol = Vol.downsample(ds_res)\n",
    "vol = Vol.asnumpy()\n",
    "vol = vol[0]\n",
    "\n",
    "\n",
    "ell_max_vol = 6\n",
    "# spherical bessel transform \n",
    "vol_coef, k_max, r0, indices_vol = sphFB_transform(vol, ell_max_vol)\n",
    "sphFB_r_t_c, sphFB_c_t_r = get_sphFB_r_t_c_mat(ell_max_vol, k_max, indices_vol)\n",
    "a = np.real(sphFB_c_t_r @ vol_coef)\n",
    "vol_coef = sphFB_r_t_c @ a "
   ]
  },
  {
   "cell_type": "code",
   "execution_count": null,
   "metadata": {},
   "outputs": [],
   "source": [
    "%%time\n",
    "\n",
    "# form the moments \n",
    "r2_max = 200 \n",
    "r3_max = 60 \n",
    "tol2 = 1e-8\n",
    "tol3 = 1e-8 \n",
    "grid = get_2d_unif_grid(ds_res,1/ds_res)\n",
    "grid = Grid_3d(xs=grid.xs, ys=grid.ys, zs=np.zeros(grid.ys.shape))\n",
    "\n",
    "opts = {}\n",
    "opts['r2_max'] = r2_max\n",
    "opts['r3_max'] = r3_max\n",
    "opts['tol2'] = tol2 \n",
    "opts['tol3'] = tol3 \n",
    "opts['grid'] = grid\n",
    "\n",
    "subMoMs = coef_t_subspace_moments(vol_coef, ell_max_vol, k_max, r0, indices_vol, rot_coef, ell_max_half_view, opts)\n",
    "m1_emp = subMoMs['m1']\n",
    "m2_emp = subMoMs['m2']\n",
    "m3_emp = subMoMs['m3']\n",
    "U2 = subMoMs['U2']\n",
    "U3 = subMoMs['U3']\n",
    "\n",
    "\n",
    "print(m1_emp.shape)\n",
    "print(m2_emp.shape)\n",
    "print(m3_emp.shape)"
   ]
  },
  {
   "cell_type": "code",
   "execution_count": null,
   "metadata": {},
   "outputs": [],
   "source": [
    "%%time\n",
    "\n",
    "# precomputation \n",
    "euler_nodes, w_so3 = load_so3_quadrature(ell_max_vol, 2*ell_max_half_view)\n",
    "Phi =  precomp_sphFB_all(U2, ell_max_vol, k_max, r0, indices_vol, euler_nodes, grid)\n",
    "Psi = precomp_wignerD_all(ell_max_half_view, euler_nodes)"
   ]
  },
  {
   "cell_type": "code",
   "execution_count": null,
   "metadata": {},
   "outputs": [],
   "source": [
    "%%time\n",
    "\n",
    "# test cost, gradient over the first moment at the ground truth \n",
    "x0 = jnp.concatenate([a,b])\n",
    "l1 = LA.norm(m1_emp.flatten())**2\n",
    "cost0, grad0 = find_cost_grad_m1(x0, w_so3, Phi, Psi, m1_emp, l1)\n",
    "print(cost0, LA.norm(grad0))"
   ]
  },
  {
   "cell_type": "code",
   "execution_count": null,
   "metadata": {},
   "outputs": [],
   "source": [
    "%%time\n",
    "\n",
    "# check gradient over the first moment via fdm  \n",
    "\n",
    "x = np.random.normal(0,1,x0.shape)\n",
    "l1 = 1 \n",
    "cost, grad = find_cost_grad_m1(x, w_so3, Phi, Psi, m1_emp, l1)\n",
    "\n",
    "\n",
    "def my_grad(x):\n",
    "    h = 1e-6 \n",
    "    I = jnp.eye(len(x))\n",
    "    grad = np.zeros(len(x))\n",
    "    for i in range(len(x)):\n",
    "        xph = x+h*I[i,:]\n",
    "        xmh = x-h*I[i,:]\n",
    "        costph = find_cost_m1(xph, w_so3, Phi, Psi, m1_emp, l1)\n",
    "        costmh = find_cost_m1(xmh, w_so3, Phi, Psi, m1_emp, l1)\n",
    "        grad[i] = (costph-costmh)/2/h \n",
    "    return grad \n",
    "\n",
    "grad_fdm = my_grad(x)\n",
    "\n",
    "LA.norm(grad-grad_fdm)/LA.norm(grad_fdm)"
   ]
  },
  {
   "cell_type": "code",
   "execution_count": null,
   "metadata": {},
   "outputs": [],
   "source": [
    "%%time\n",
    "\n",
    "# precomputation \n",
    "\n",
    "euler_nodes, w_so3 = load_so3_quadrature(2*ell_max_vol, 2*ell_max_half_view)\n",
    "Phi =  precomp_sphFB_all(U2, ell_max_vol, k_max, r0, indices_vol, euler_nodes, grid)\n",
    "Psi = precomp_wignerD_all(ell_max_half_view, euler_nodes)\n"
   ]
  },
  {
   "cell_type": "code",
   "execution_count": null,
   "metadata": {},
   "outputs": [],
   "source": [
    "%%time\n",
    "\n",
    "# test cost, gradient over the second moment at the ground truth \n",
    "\n",
    "\n",
    "\n",
    "l2 = LA.norm(m2_emp.flatten())**2\n",
    "cost0, grad0 = find_cost_grad_m2(x0, w_so3, Phi, Psi, m2_emp, l2)\n",
    "print(cost0, LA.norm(grad0))\n",
    "\n"
   ]
  },
  {
   "cell_type": "code",
   "execution_count": null,
   "metadata": {},
   "outputs": [],
   "source": [
    "%%time\n",
    "\n",
    "# check gradient over the second moment via fdm  \n",
    "\n",
    "x = np.random.normal(0,1,x0.shape)\n",
    "l2 = 1 \n",
    "cost, grad = find_cost_grad_m2(x, w_so3, Phi, Psi, m2_emp, l2)\n",
    "\n",
    "def my_grad(x):\n",
    "    h = 1e-6 \n",
    "    I = jnp.eye(len(x))\n",
    "    grad = np.zeros(len(x))\n",
    "    for i in range(len(x)):\n",
    "        xph = x+h*I[i,:]\n",
    "        xmh = x-h*I[i,:]\n",
    "        costph = find_cost_m2(xph, w_so3, Phi, Psi, m2_emp, l2)\n",
    "        costmh = find_cost_m2(xmh, w_so3, Phi, Psi, m2_emp, l2)\n",
    "        grad[i] = (costph-costmh)/2/h \n",
    "    return grad \n",
    "\n",
    "grad_fdm = my_grad(x)\n",
    "\n",
    "LA.norm(grad-grad_fdm)/LA.norm(grad_fdm)"
   ]
  },
  {
   "cell_type": "code",
   "execution_count": null,
   "metadata": {},
   "outputs": [],
   "source": [
    "%%time\n",
    "\n",
    "# precomputation \n",
    "\n",
    "euler_nodes, w_so3 = load_so3_quadrature(3*ell_max_vol, 2*ell_max_half_view)\n",
    "Phi =  precomp_sphFB_all(U3, ell_max_vol, k_max, r0, indices_vol, euler_nodes, grid)\n",
    "Psi = precomp_wignerD_all(ell_max_half_view, euler_nodes)\n"
   ]
  },
  {
   "cell_type": "code",
   "execution_count": null,
   "metadata": {},
   "outputs": [],
   "source": [
    "%%time\n",
    "\n",
    "# test cost, gradient over the third moment at the ground truth \n",
    "\n",
    "l3 = np.max(np.abs(m3_emp.flatten()))**2\n",
    "cost0, grad0 = find_cost_grad_m3(x0, w_so3, Phi, Psi, m3_emp, l3)\n",
    "print(cost0, LA.norm(grad0))"
   ]
  },
  {
   "cell_type": "code",
   "execution_count": null,
   "metadata": {},
   "outputs": [],
   "source": [
    "%%time\n",
    "\n",
    "# check gradient over the third moment via fdm  \n",
    "\n",
    "x = np.random.normal(0,1,x0.shape)\n",
    "l3 = 1\n",
    "cost, grad = find_cost_grad_m3(x, w_so3, Phi, Psi, m3_emp, l3)\n",
    "\n",
    "def my_grad(x):\n",
    "    h = 1e-6 \n",
    "    I = jnp.eye(len(x))\n",
    "    grad = np.zeros(len(x))\n",
    "    for i in range(len(x)):\n",
    "        xph = x+h*I[i,:]\n",
    "        xmh = x-h*I[i,:]\n",
    "        costph = find_cost_m3(xph, w_so3, Phi, Psi, m3_emp, l3)\n",
    "        costmh = find_cost_m3(xmh, w_so3, Phi, Psi, m3_emp, l3)\n",
    "        grad[i] = (costph-costmh)/2/h\n",
    "    return grad \n",
    "\n",
    "grad_fdm = my_grad(x)\n",
    "\n",
    "LA.norm(grad-grad_fdm)/LA.norm(grad_fdm)"
   ]
  },
  {
   "cell_type": "code",
   "execution_count": null,
   "metadata": {},
   "outputs": [],
   "source": []
  },
  {
   "cell_type": "code",
   "execution_count": null,
   "metadata": {},
   "outputs": [],
   "source": []
  }
 ],
 "metadata": {
  "kernelspec": {
   "display_name": "aspire",
   "language": "python",
   "name": "aspire"
  },
  "language_info": {
   "codemirror_mode": {
    "name": "ipython",
    "version": 3
   },
   "file_extension": ".py",
   "mimetype": "text/x-python",
   "name": "python",
   "nbconvert_exporter": "python",
   "pygments_lexer": "ipython3",
   "version": "3.9.21"
  }
 },
 "nbformat": 4,
 "nbformat_minor": 4
}
