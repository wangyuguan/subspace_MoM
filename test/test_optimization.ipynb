{
 "cells": [
  {
   "cell_type": "code",
   "execution_count": 1,
   "metadata": {},
   "outputs": [],
   "source": [
    "import sys\n",
    "from pathlib import Path\n",
    "\n",
    "\n",
    "# Add the 'src' directory to the Python path\n",
    "src_path = Path('../src').resolve()\n",
    "sys.path.append(str(src_path))\n",
    "\n",
    "from aspire.volume import Volume\n",
    "import mrcfile\n",
    "import numpy as np \n",
    "import numpy.linalg as LA \n",
    "from viewing_direction import *\n",
    "from utils import *\n",
    "from aspire.basis.basis_utils import lgwt\n",
    "from volume import *\n",
    "from moments import * \n",
    "import matplotlib.pyplot as plt\n",
    "\n",
    "\n",
    "import jax\n",
    "import jax.numpy as jnp\n",
    "from jax import grad, jit \n",
    "from jax.numpy.linalg import norm"
   ]
  },
  {
   "cell_type": "code",
   "execution_count": 2,
   "metadata": {},
   "outputs": [
    {
     "name": "stdout",
     "output_type": "stream",
     "text": [
      "CPU times: user 1.71 s, sys: 558 ms, total: 2.26 s\n",
      "Wall time: 114 ms\n"
     ]
    }
   ],
   "source": [
    "%%time\n",
    "\n",
    "# get ground truth a and b \n",
    "\n",
    "c = 10\n",
    "centers = np.random.normal(0,1,size=(c,3))\n",
    "centers /= LA.norm(centers, axis=1, keepdims=True)\n",
    "w_vmf = np.random.uniform(0,1,c)\n",
    "w_vmf = w_vmf/np.sum(w_vmf)\n",
    "\n",
    "\n",
    "ngrid = 50 \n",
    "_ths = np.pi*np.arange(ngrid)/ngrid\n",
    "_phs = 2*np.pi*np.arange(ngrid)/ngrid\n",
    "\n",
    "ths, phs = np.meshgrid(_ths,_phs,indexing='ij')\n",
    "ths, phs = ths.flatten(), phs.flatten()\n",
    "\n",
    "grid = Grid_3d(type='spherical', ths=ths, phs=phs)\n",
    "\n",
    "\n",
    "kappa = 5\n",
    "f_vmf = vMF_density(centers,w_vmf,kappa,grid)\n",
    "f_vmf = f_vmf*np.sin(ths)\n",
    "f_vmf = f_vmf.reshape((ngrid,ngrid))\n",
    "\n",
    "\n",
    "\n",
    "def my_fun(th,ph):\n",
    "    grid = Grid_3d(type='spherical', ths=np.array([th]),phs=np.array([ph]))\n",
    "    return 4*np.pi*vMF_density(centers,w_vmf,kappa,grid)[0]\n",
    "\n",
    "ell_max_half_view = 4\n",
    "sph_coef, indices = sph_harm_transform(my_fun, ell_max_half_view)\n",
    "rot_coef = sph_t_rot_coef(sph_coef, ell_max_half_view)\n",
    "rot_coef[0] = 1\n",
    "sph_r_t_c , sph_c_t_r =  get_sph_r_t_c_mat(ell_max_half_view)\n",
    "b = np.real(sph_c_t_r @ rot_coef)\n",
    "rot_coef = sph_r_t_c @ b\n",
    "b = b[1:]\n",
    "\n",
    "\n"
   ]
  },
  {
   "cell_type": "code",
   "execution_count": 3,
   "metadata": {},
   "outputs": [
    {
     "name": "stdout",
     "output_type": "stream",
     "text": [
      "CPU times: user 15.7 s, sys: 2.2 s, total: 17.9 s\n",
      "Wall time: 7.43 s\n"
     ]
    }
   ],
   "source": [
    "%%time\n",
    "\n",
    "# get the spherical FB coefficient of the volume\n",
    "with mrcfile.open('../data/emd_34948.map') as mrc:\n",
    "    data = mrc.data\n",
    "\n",
    "\n",
    "data = data/LA.norm(data.flatten())\n",
    "Vol = Volume(data)\n",
    "ds_res = 64 \n",
    "Vol = Vol.downsample(ds_res)\n",
    "vol = Vol.asnumpy()\n",
    "vol = vol[0]\n",
    "savemat('vol.mat',{'vol':vol})\n",
    "\n",
    "\n",
    "ell_max_vol = 5\n",
    "# spherical bessel transform \n",
    "vol_coef, k_max, r0, indices_vol = sphFB_transform(vol, ell_max_vol)\n",
    "sphFB_r_t_c, sphFB_c_t_r = get_sphFB_r_t_c_mat(ell_max_vol, k_max, indices_vol)\n",
    "a = np.real(sphFB_c_t_r @ vol_coef)\n",
    "vol_coef = sphFB_r_t_c @ a "
   ]
  },
  {
   "cell_type": "code",
   "execution_count": 4,
   "metadata": {},
   "outputs": [
    {
     "name": "stdout",
     "output_type": "stream",
     "text": [
      "getting the first moment\n",
      "getting the second moment\n",
      "getting the third moment\n",
      "(122, 1)\n",
      "(122, 122)\n",
      "(53, 53, 53)\n",
      "CPU times: user 22min 47s, sys: 28min 30s, total: 51min 18s\n",
      "Wall time: 2min 39s\n"
     ]
    }
   ],
   "source": [
    "%%time\n",
    "\n",
    "# form the moments \n",
    "r2_max = 250 \n",
    "r3_max = 100 \n",
    "tol2 = 1e-10\n",
    "tol3 = 1e-6 \n",
    "grid = get_2d_unif_grid(ds_res,1/ds_res)\n",
    "grid = Grid_3d(xs=grid.xs, ys=grid.ys, zs=np.zeros(grid.ys.shape))\n",
    "\n",
    "opts = {}\n",
    "opts['r2_max'] = r2_max\n",
    "opts['r3_max'] = r3_max\n",
    "opts['tol2'] = tol2 \n",
    "opts['tol3'] = tol3 \n",
    "opts['grid'] = grid\n",
    "\n",
    "subMoMs = coef_t_subspace_moments(vol_coef, ell_max_vol, k_max, r0, indices_vol, rot_coef, ell_max_half_view, opts)\n",
    "m1_emp = subMoMs['m1']\n",
    "m2_emp = subMoMs['m2']\n",
    "m3_emp = subMoMs['m3']\n",
    "U2 = subMoMs['U2']\n",
    "U3 = subMoMs['U3']\n",
    "\n",
    "\n",
    "print(m1_emp.shape)\n",
    "print(m2_emp.shape)\n",
    "print(m3_emp.shape)"
   ]
  },
  {
   "cell_type": "code",
   "execution_count": 5,
   "metadata": {},
   "outputs": [
    {
     "name": "stdout",
     "output_type": "stream",
     "text": [
      "2025-02-11 05:08:09,012 INFO [jax._src.xla_bridge] Unable to initialize backend 'cuda': \n",
      "2025-02-11 05:08:09,014 INFO [jax._src.xla_bridge] Unable to initialize backend 'rocm': module 'jaxlib.xla_extension' has no attribute 'GpuAllocatorConfig'\n",
      "2025-02-11 05:08:09,027 INFO [jax._src.xla_bridge] Unable to initialize backend 'tpu': INTERNAL: Failed to open libtpu.so: libtpu.so: cannot open shared object file: No such file or directory\n",
      "CPU times: user 1h 55min 44s, sys: 2h 39min 20s, total: 4h 35min 4s\n",
      "Wall time: 12min\n"
     ]
    }
   ],
   "source": [
    "%%time \n",
    "\n",
    "quadrature_rules = {} \n",
    "quadrature_rules['m2'] = load_so3_quadrature(2*ell_max_vol, 2*ell_max_half_view)\n",
    "quadrature_rules['m3'] = load_so3_quadrature(3*ell_max_vol, 2*ell_max_half_view)\n",
    "\n",
    "subspaces = {}\n",
    "subspaces['m2'] = U2 \n",
    "subspaces['m3'] = U3 \n",
    "\n",
    "Phi_precomps, Psi_precomps = precomputation(ell_max_vol, k_max, r0, indices_vol, ell_max_half_view, subspaces, quadrature_rules, grid)"
   ]
  },
  {
   "cell_type": "code",
   "execution_count": 6,
   "metadata": {},
   "outputs": [
    {
     "name": "stdout",
     "output_type": "stream",
     "text": [
      "CPU times: user 29.1 ms, sys: 39.4 ms, total: 68.4 ms\n",
      "Wall time: 2.93 ms\n"
     ]
    }
   ],
   "source": [
    "%%time \n",
    "\n",
    "xtrue =  np.concatenate([a,b])\n",
    "na = len(a)\n",
    "nb = len(b)\n",
    "view_constr, rhs, _ = get_linear_ineqn_constraint(ell_max_half_view)\n",
    "A_constr = np.zeros([len(rhs), len(xtrue)])\n",
    "A_constr[:,na:] = view_constr \n",
    "\n",
    "a0 = np.random.normal(0,1,a.shape)\n",
    "b0 = np.zeros(b.shape)\n",
    "\n",
    "\n",
    "x0 = xtrue+1e-4*np.concatenate([a0,b0])\n"
   ]
  },
  {
   "cell_type": "code",
   "execution_count": 7,
   "metadata": {},
   "outputs": [],
   "source": [
    "from scipy.io import savemat\n",
    "savemat('moms_emp.mat',{'m1_emp':m1_emp,'m2_emp':m2_emp,'m3_emp':m3_emp})\n",
    "savemat('precomps.mat',{'Phi_precomps_m2':Phi_precomps['m2'],'Phi_precomps_m3':Phi_precomps['m3'],'Psi_precomps_m2':Psi_precomps['m2'],'Psi_precomps_m3':Psi_precomps['m3']})\n",
    "savemat('w_so3.mat',{'w_so3_m2':quadrature_rules['m2'][1],'w_so3_m3':quadrature_rules['m3'][1]})\n",
    "savemat('params.mat',{'a':a,'b':b,'xtrue':xtrue,'x0':x0})\n",
    "savemat('constraint.mat',{'A_constr':A_constr,'rhs':rhs})\n",
    "# savemat('b.mat','b')\n",
    "# savemat('xtrue.mat','xtrue')\n",
    "# savemat('x0.mat','x0')\n",
    "# savemat('A_constr.mat',A_constr)\n",
    "# savemat('rhs.mat',rhs)"
   ]
  },
  {
   "cell_type": "code",
   "execution_count": null,
   "metadata": {},
   "outputs": [],
   "source": [
    "l1 = LA.norm(m1_emp.flatten())**2\n",
    "l2 = LA.norm(m2_emp.flatten())**2\n",
    "l3 = LA.norm(m3_emp.flatten())**2\n",
    "objective = lambda x: find_cost_grad(x, quadrature_rules, Phi_precomps, Psi_precomps, m1_emp, m2_emp, m3_emp, l1, l2, l3)\n",
    "f,g = objective(xtrue)\n",
    "print(f, LA.norm(g))"
   ]
  },
  {
   "cell_type": "code",
   "execution_count": 8,
   "metadata": {},
   "outputs": [],
   "source": [
    "# %%time \n",
    "# from scipy.optimize import LinearConstraint\n",
    "\n",
    "# def moment_LS(x0, quadrature_rules, Phi_precomps, Psi_precomps, m1_emp, m2_emp, m3_emp, A_constr, b_constr, l1=None, l2=None, l3=None):\n",
    "    \n",
    "#     if l1 is None:\n",
    "#         l1 = LA.norm(m1_emp.flatten())**2\n",
    "#     if l2 is None:\n",
    "#         l2 = LA.norm(m2_emp.flatten())**2\n",
    "#     if l3 is None:\n",
    "#         l3 = LA.norm(m3_emp.flatten())**2\n",
    "    \n",
    "#     # linear_constraint = {'type': 'ineq', 'fun': lambda x: b_constr - A_constr @ x}\n",
    "#     linear_constraint = LinearConstraint(A_constr, -np.inf, b_constr)\n",
    "#     objective = lambda x: find_cost_grad(x, quadrature_rules, Phi_precomps, Psi_precomps, m1_emp, m2_emp, m3_emp, l1, l2, l3)\n",
    "#     # options = {'disp':True, 'iprint':3, 'maxiter':200}\n",
    "#     options = {'disp':True, 'verbose':3, 'maxiter':200,'initial_tr_radius': 1.0}\n",
    "#     result = minimize(objective, x0, method='trust-constr', jac=True, constraints=[linear_constraint], options=options)\n",
    "\n",
    "#     return result \n",
    "\n",
    "\n",
    "# res = moment_LS(x0, quadrature_rules, Phi_precomps, Psi_precomps, m1_emp, m2_emp, m3_emp, A_constr, rhs, l1=None, l2=None, l3=0)"
   ]
  }
 ],
 "metadata": {
  "kernelspec": {
   "display_name": "aspire",
   "language": "python",
   "name": "python3"
  },
  "language_info": {
   "codemirror_mode": {
    "name": "ipython",
    "version": 3
   },
   "file_extension": ".py",
   "mimetype": "text/x-python",
   "name": "python",
   "nbconvert_exporter": "python",
   "pygments_lexer": "ipython3",
   "version": "3.9.21"
  }
 },
 "nbformat": 4,
 "nbformat_minor": 4
}
