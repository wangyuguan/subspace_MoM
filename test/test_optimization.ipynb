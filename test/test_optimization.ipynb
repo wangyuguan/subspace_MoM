{
 "cells": [
  {
   "cell_type": "code",
   "execution_count": 1,
   "metadata": {},
   "outputs": [],
   "source": [
    "import sys\n",
    "from pathlib import Path\n",
    "\n",
    "\n",
    "# Add the 'src' directory to the Python path\n",
    "src_path = Path('../src').resolve()\n",
    "sys.path.append(str(src_path))\n",
    "\n",
    "from aspire.volume import Volume\n",
    "import mrcfile\n",
    "import numpy as np \n",
    "import numpy.linalg as LA \n",
    "from viewing_direction import *\n",
    "from utils import *\n",
    "from aspire.basis.basis_utils import lgwt\n",
    "from volume import *\n",
    "from moments import * \n",
    "import matplotlib.pyplot as plt\n"
   ]
  },
  {
   "cell_type": "code",
   "execution_count": 25,
   "metadata": {},
   "outputs": [
    {
     "data": {
      "text/plain": [
       "0.18541056520674526"
      ]
     },
     "execution_count": 25,
     "metadata": {},
     "output_type": "execute_result"
    }
   ],
   "source": [
    "# plot vMF density \n",
    "\n",
    "c = 10\n",
    "centers = np.random.normal(0,1,size=(c,3))\n",
    "centers /= LA.norm(centers, axis=1, keepdims=True)\n",
    "w_vmf = np.random.uniform(0,1,c)\n",
    "w_vmf = w_vmf/np.sum(w_vmf)\n",
    "\n",
    "\n",
    "ngrid = 50 \n",
    "_ths = np.pi*np.arange(ngrid)/ngrid\n",
    "_phs = 2*np.pi*np.arange(ngrid)/ngrid\n",
    "\n",
    "ths, phs = np.meshgrid(_ths,_phs,indexing='ij')\n",
    "ths, phs = ths.flatten(), phs.flatten()\n",
    "\n",
    "grid = Grid_3d(type='spherical', ths=ths, phs=phs)\n",
    "\n",
    "\n",
    "kappa = 5\n",
    "f_vmf = vMF_density(centers,w_vmf,kappa,grid)\n",
    "f_vmf = f_vmf*np.sin(ths)\n",
    "f_vmf = f_vmf.reshape((ngrid,ngrid))\n",
    "\n",
    "\n",
    "# expand the symmetrized density and draw samples \n",
    "def my_fun(th,ph):\n",
    "    grid = Grid_3d(type='spherical', ths=np.array([th]),phs=np.array([ph]))\n",
    "    return 4*np.pi*vMF_density(centers,w_vmf,kappa,grid)[0]\n",
    "\n",
    "ell_max_half_view = 4\n",
    "sph_coef, indices = sph_harm_transform(my_fun, ell_max_half_view)\n",
    "rot_coef = sph_t_rot_coef(sph_coef, ell_max_half_view)\n",
    "rot_coef[0] = 1\n",
    "sph_r_t_c , sph_c_t_r =  get_sph_r_t_c_mat(ell_max_half_view)\n",
    "b = np.real(sph_c_t_r @ rot_coef)\n",
    "rot_coef = sph_r_t_c @ b\n",
    "b = b[1:]\n",
    "\n",
    "A_constr, b_constr, _ = get_linear_ineqn_constraint(ell_max_half_view)\n",
    "\n",
    "np.min(b_constr  - A_constr @ b)\n"
   ]
  },
  {
   "cell_type": "code",
   "execution_count": null,
   "metadata": {},
   "outputs": [],
   "source": []
  },
  {
   "cell_type": "code",
   "execution_count": null,
   "metadata": {},
   "outputs": [],
   "source": []
  },
  {
   "cell_type": "code",
   "execution_count": null,
   "metadata": {},
   "outputs": [],
   "source": []
  }
 ],
 "metadata": {
  "kernelspec": {
   "display_name": "aspire",
   "language": "python",
   "name": "python3"
  },
  "language_info": {
   "codemirror_mode": {
    "name": "ipython",
    "version": 3
   },
   "file_extension": ".py",
   "mimetype": "text/x-python",
   "name": "python",
   "nbconvert_exporter": "python",
   "pygments_lexer": "ipython3",
   "version": "3.9.21"
  }
 },
 "nbformat": 4,
 "nbformat_minor": 2
}
