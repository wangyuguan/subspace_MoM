{
 "cells": [
  {
   "cell_type": "code",
   "execution_count": 121,
   "metadata": {},
   "outputs": [],
   "source": [
    "import sys\n",
    "from pathlib import Path\n",
    "src_path = Path('../src').resolve()\n",
    "sys.path.append(str(src_path))\n",
    "src_path = Path('../../BOTalign').resolve()\n",
    "sys.path.append(str(src_path))\n",
    "\n",
    "from utils_BO import align_BO\n",
    "\n",
    "from aspire.volume import Volume\n",
    "from aspire.utils.rotation import Rotation\n",
    "import mrcfile\n",
    "import numpy as np \n",
    "import numpy.linalg as LA \n",
    "from scipy.io import loadmat, savemat\n"
   ]
  },
  {
   "cell_type": "code",
   "execution_count": 122,
   "metadata": {},
   "outputs": [],
   "source": [
    "def Rz(th):\n",
    "    \"\"\"\n",
    "    Rotation around the z axis \n",
    "    :param th: The rotation angle \n",
    "    :return: The 3x3 rotation matrix rotating a vector around z axis by th\n",
    "    \"\"\"\n",
    "    return np.array([\n",
    "        [np.cos(th), -np.sin(th), 0], \n",
    "        [np.sin(th), np.cos(th), 0],\n",
    "        [0, 0, 1]\n",
    "    ])\n",
    "\n",
    "\n",
    "def Ry(th):\n",
    "    \"\"\"\n",
    "    Rotation around the y axis \n",
    "    :param th: The rotation angle \n",
    "    :return: The 3x3 rotation matrix rotating a vector around y axis by th\n",
    "    \"\"\"    \n",
    "    return np.array([\n",
    "        [np.cos(th), 0, np.sin(th)], \n",
    "        [0, 1, 0],\n",
    "        [-np.sin(th), 0, np.cos(th)]\n",
    "    ])"
   ]
  },
  {
   "cell_type": "code",
   "execution_count": 123,
   "metadata": {},
   "outputs": [],
   "source": [
    "with mrcfile.open('../data/emd_34948.map') as mrc:\n",
    "    data = mrc.data\n",
    "\n",
    "\n",
    "data = data/LA.norm(data.flatten())\n",
    "Vol = Volume(data)\n",
    "ds_res = 64 \n",
    "vol = Vol.downsample(ds_res)\n",
    "\n",
    "\n",
    "para =['wemd',64,150,True] \n",
    "Rot = Rz(1)@Ry(1)@Rz(3)\n",
    "Rot = np.array(Rot, dtype=np.float32) \n",
    "Rot = Rotation(Rot)\n",
    "vol_flip = vol.flip()\n",
    "_vol = vol_flip.rotate(Rot)\n",
    "_vol_flip = _vol.flip()\n",
    "_, R_est1 = align_BO(vol,_vol,para,reflect=False)\n",
    "_, R_est2 = align_BO(vol,_vol_flip,para,reflect=False)"
   ]
  },
  {
   "cell_type": "code",
   "execution_count": 124,
   "metadata": {},
   "outputs": [
    {
     "data": {
      "text/plain": [
       "array([1., 1., 1.], dtype=float32)"
      ]
     },
     "execution_count": 124,
     "metadata": {},
     "output_type": "execute_result"
    }
   ],
   "source": [
    "[U,S,Vh] = LA.svd(R_est1)\n",
    "S"
   ]
  },
  {
   "cell_type": "code",
   "execution_count": 125,
   "metadata": {},
   "outputs": [
    {
     "data": {
      "text/plain": [
       "array([1.        , 1.        , 0.99999994], dtype=float32)"
      ]
     },
     "execution_count": 125,
     "metadata": {},
     "output_type": "execute_result"
    }
   ],
   "source": [
    "[U,S,Vh] = LA.svd(R_est2)\n",
    "S"
   ]
  },
  {
   "cell_type": "code",
   "execution_count": 126,
   "metadata": {},
   "outputs": [
    {
     "data": {
      "text/plain": [
       "0.16751678"
      ]
     },
     "execution_count": 126,
     "metadata": {},
     "output_type": "execute_result"
    }
   ],
   "source": [
    "_vol_est = _vol.rotate(Rotation(R_est1))\n",
    "LA.norm(_vol_est.asnumpy().flatten() - vol.asnumpy().flatten())"
   ]
  },
  {
   "cell_type": "code",
   "execution_count": 127,
   "metadata": {},
   "outputs": [
    {
     "data": {
      "text/plain": [
       "0.09137104"
      ]
     },
     "execution_count": 127,
     "metadata": {},
     "output_type": "execute_result"
    }
   ],
   "source": [
    "_vol_est = _vol_flip.rotate(Rotation(R_est2))\n",
    "LA.norm(_vol_est.asnumpy().flatten() - vol.asnumpy().flatten())"
   ]
  }
 ],
 "metadata": {
  "kernelspec": {
   "display_name": "aspire",
   "language": "python",
   "name": "python3"
  },
  "language_info": {
   "codemirror_mode": {
    "name": "ipython",
    "version": 3
   },
   "file_extension": ".py",
   "mimetype": "text/x-python",
   "name": "python",
   "nbconvert_exporter": "python",
   "pygments_lexer": "ipython3",
   "version": "3.9.21"
  }
 },
 "nbformat": 4,
 "nbformat_minor": 2
}
