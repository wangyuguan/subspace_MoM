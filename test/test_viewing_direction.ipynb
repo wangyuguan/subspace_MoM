{
 "cells": [
  {
   "cell_type": "code",
   "execution_count": 1,
   "metadata": {},
   "outputs": [],
   "source": [
    "import sys\n",
    "from pathlib import Path\n",
    "\n",
    "# Add the 'src' directory to the Python path\n",
    "src_path = Path('../src').resolve()\n",
    "sys.path.append(str(src_path))\n",
    "\n",
    "\n",
    "import numpy as np \n",
    "import numpy.linalg as LA \n",
    "from viewing_direction import *\n",
    "from utils import *\n",
    "from aspire.basis.basis_utils import lgwt\n",
    "from volume import *\n",
    "import matplotlib.pyplot as plt\n",
    "\n",
    "\n",
    "j = 5 \n",
    "alpha = 2 \n",
    "beta = 3 \n",
    "gamma = 2\n",
    "\n",
    "Rot = Rz(alpha) @ Ry(beta) @ Rz(gamma)\n",
    "\n",
    "\n",
    "Dj = wignerD(j,alpha,beta,gamma)"
   ]
  },
  {
   "cell_type": "code",
   "execution_count": 2,
   "metadata": {},
   "outputs": [
    {
     "name": "stdout",
     "output_type": "stream",
     "text": [
      "1.3619108267767208e-15\n",
      "1.3616788580309498e-15\n"
     ]
    }
   ],
   "source": [
    "# should be close to zero \n",
    "\n",
    "err = LA.norm(np.eye(2*j+1) - Dj @ np.conj(Dj).T, 'fro')\n",
    "print(err)\n",
    "\n",
    "err = LA.norm(np.eye(2*j+1) - np.conj(Dj).T @ Dj , 'fro')\n",
    "print(err)"
   ]
  },
  {
   "cell_type": "code",
   "execution_count": 3,
   "metadata": {},
   "outputs": [
    {
     "name": "stdout",
     "output_type": "stream",
     "text": [
      "(-2.3296583755296914e-05-1.5104592320554224e-05j) [-2.32965838e-05-1.51045923e-05j] [1.08991754e-14]\n",
      "(8.96189104547206e-05-0.000609382732023333j) [8.96189105e-05-0.00060938j] [8.36441701e-15]\n",
      "(0.007803283534917882-0.0022708038217917753j) [0.00780328-0.0022708j] [6.21582898e-15]\n",
      "(0.04529274927100584+0.052440909042093885j) [0.04529275+0.05244091j] [3.97539876e-15]\n",
      "(-0.14978683663450806+0.32729020903824096j) [-0.14978684+0.32729021j] [1.34670697e-15]\n",
      "(-0.8550755669850221+0j) [-0.85507557+0.j] [6.49195853e-16]\n",
      "(0.14978683663450806+0.32729020903824096j) [0.14978684+0.32729021j] [1.34670697e-15]\n",
      "(0.04529274927100584-0.052440909042093885j) [0.04529275-0.05244091j] [3.97539876e-15]\n",
      "(-0.007803283534917882-0.0022708038217917753j) [-0.00780328-0.0022708j] [6.21582898e-15]\n",
      "(8.96189104547206e-05+0.000609382732023333j) [8.96189105e-05+0.00060938j] [8.36441701e-15]\n",
      "(2.3296583755296914e-05-1.5104592320554224e-05j) [2.32965838e-05-1.51045923e-05j] [1.08991754e-14]\n"
     ]
    }
   ],
   "source": [
    "# should agree \n",
    "\n",
    "lp = norm_assoc_legendre_all(j, np.cos(beta))\n",
    "\n",
    "\n",
    "for m in range(-j,j+1):\n",
    "    lpjm = lp[j,abs(m)]*np.exp(-1j*m*alpha)/np.sqrt(2*j+1)\n",
    "\n",
    "    if m<0:\n",
    "        lpjm = lpjm*(-1)**m \n",
    "\n",
    "\n",
    "    print(Dj[m+j,j],lpjm,abs(lpjm-Dj[m+j,j])/abs(lpjm))\n"
   ]
  },
  {
   "cell_type": "code",
   "execution_count": 4,
   "metadata": {},
   "outputs": [
    {
     "name": "stdout",
     "output_type": "stream",
     "text": [
      "[-0.06304731+0.00705489j] [-0.06304731+0.00705489j] [2.19178608e-16]\n",
      "[-0.04937376+0.21571198j] [-0.04937376+0.21571198j] [5.47617935e-16]\n",
      "[0.34958036+0.21987977j] [0.34958036+0.21987977j] [3.3603915e-16]\n",
      "[0.2864346-0.22828062j] [0.2864346-0.22828062j] [6.42998724e-16]\n",
      "[0.02539984+0.07262421j] [0.02539984+0.07262421j] [1.5834412e-15]\n",
      "[0.38484321-1.56891678e-18j] [0.38484321+0.j] [4.07676873e-18]\n",
      "[-0.02539984+0.07262421j] [-0.02539984+0.07262421j] [1.89663744e-15]\n",
      "[0.2864346+0.22828062j] [0.2864346+0.22828062j] [7.57781263e-16]\n",
      "[-0.34958036+0.21987977j] [-0.34958036+0.21987977j] [3.3603915e-16]\n",
      "[-0.04937376-0.21571198j] [-0.04937376-0.21571198j] [5.1714484e-16]\n",
      "[0.06304731+0.00705489j] [0.06304731+0.00705489j] [2.19178608e-16]\n"
     ]
    }
   ],
   "source": [
    "# generate rotated vectors \n",
    "\n",
    "x = np.array([1,2,3])\n",
    "rx, thx, phx = cart2sph(x[0], x[1], x[2])\n",
    "\n",
    "y = Rot.T @ x \n",
    "ry, thy, phy = cart2sph(y[0], y[1], y[2])\n",
    "\n",
    "\n",
    "# evaluate rotated spherical harmonics \n",
    "\n",
    "\n",
    "\n",
    "lpy = norm_assoc_legendre_all(j, np.cos(thy))\n",
    "lpx = norm_assoc_legendre_all(j, np.cos(thx))\n",
    "\n",
    "\n",
    "for m in range(-j,j+1):\n",
    "    yjm = lpy[j,abs(m)]*np.exp(1j*m*phy)/np.sqrt(4*np.pi)\n",
    "    if m<0:\n",
    "        yjm = yjm*(-1)**m \n",
    "\n",
    "    _yjm = 0 \n",
    "\n",
    "    for mp in range(-j,j+1):\n",
    "        yjmp = lpx[j,abs(mp)]*np.exp(1j*mp*phx)/np.sqrt(4*np.pi)\n",
    "        if mp<0:\n",
    "            yjmp = yjmp*(-1)**mp\n",
    "            \n",
    "        _yjm += Dj[mp+j,m+j]*yjmp\n",
    "\n",
    "\n",
    "    print(_yjm,yjm,abs(_yjm-yjm)/abs(yjm))\n",
    "\n",
    "\n"
   ]
  },
  {
   "cell_type": "code",
   "execution_count": 5,
   "metadata": {},
   "outputs": [
    {
     "name": "stdout",
     "output_type": "stream",
     "text": [
      "(1.000000170530571+3.0000005115916695j)\n",
      "[1.34827638e-18 2.13541467e-18 2.67658123e-18 3.26089414e-18\n",
      " 3.28410950e-18 3.42471584e-18 4.00873634e-18 4.64300660e-18\n",
      " 4.81245413e-18 5.09002614e-18 5.17267309e-18 5.51470338e-18\n",
      " 6.03708423e-18 6.25787116e-18 6.76971454e-18 7.16943816e-18\n",
      " 7.41942926e-18 7.92240063e-18 8.01984464e-18 8.31988765e-18\n",
      " 8.65826455e-18 8.68077533e-18 9.13694216e-18 9.16131004e-18\n",
      " 9.28970356e-18 9.39342673e-18 9.57216490e-18 9.77337225e-18\n",
      " 9.85157800e-18 1.00416962e-17 1.01894209e-17 1.05567617e-17\n",
      " 1.06951081e-17 1.08389466e-17 1.11802317e-17 1.12256275e-17\n",
      " 1.13884027e-17 1.16978746e-17 1.17089077e-17 1.19298521e-17\n",
      " 1.20540231e-17 1.23289120e-17 1.27746857e-17 1.31234447e-17\n",
      " 1.32165154e-17 1.36085531e-17 1.38725070e-17 1.39128961e-17\n",
      " 1.43082996e-17 1.44181708e-17 1.48883790e-17 1.49065296e-17\n",
      " 1.52523217e-17 1.52760263e-17 1.53893169e-17 1.55469561e-17\n",
      " 1.56395930e-17 1.58511680e-17 1.61622427e-17 1.64997433e-17\n",
      " 1.66042894e-17 1.66479934e-17 1.67487140e-17 1.76741491e-17\n",
      " 1.78968147e-17 1.80493473e-17 1.84708876e-17 1.84893987e-17\n",
      " 1.90586528e-17 1.90918454e-17 1.94588096e-17 1.99999698e-17\n",
      " 2.00085719e-17 2.00754680e-17 2.03509889e-17 2.03747415e-17\n",
      " 2.04256639e-17 2.09437766e-17 2.13947418e-17 2.14950468e-17\n",
      " 2.17848965e-17 2.21522122e-17 2.23161113e-17 2.24614211e-17\n",
      " 2.25590720e-17 2.30391817e-17 2.32120095e-17 2.33565373e-17\n",
      " 2.34798239e-17 2.36013389e-17 2.38868837e-17 2.42886545e-17\n",
      " 2.45742411e-17 2.53541627e-17 2.58596396e-17 2.63396445e-17\n",
      " 2.64832456e-17 2.65225696e-17 2.72092500e-17 2.76796109e-17\n",
      " 2.77342015e-17 2.77626485e-17 2.81138095e-17 2.85825808e-17\n",
      " 2.89790569e-17 2.94010600e-17 2.96935233e-17 2.97686449e-17\n",
      " 3.06913439e-17 3.11925663e-17 3.14488661e-17 3.25946212e-17\n",
      " 3.43722254e-17 3.45379890e-17 3.45659571e-17 3.49459271e-17\n",
      " 3.63665531e-17 3.69685920e-17 3.88078184e-17 3.92405696e-17\n",
      " 4.07647306e-17 4.10318651e-17 4.10638577e-17 4.14736779e-17\n",
      " 4.17168096e-17 4.18087099e-17 4.43215885e-17 4.54120379e-17\n",
      " 4.71097283e-17 4.81372205e-17 5.23814664e-17 5.42739902e-17\n",
      " 5.89046312e-17 6.09027854e-17 6.90908007e-17 7.38899217e-17\n",
      " 7.78677262e-17 9.06450225e-17 1.04061049e-16 1.13799153e-16\n",
      " 1.17717711e-16 1.18726776e-16 1.24271414e-16 1.29102453e-16\n",
      " 1.39146743e-16 1.39751166e-16 1.52900945e-16 1.57343870e-16\n",
      " 1.73870831e-16 1.88108438e-16 1.92391078e-16 2.03814661e-16\n",
      " 2.37399704e-16 2.37550590e-16 2.56232911e-16 2.59947248e-16\n",
      " 2.61731116e-16 3.01622761e-16 3.22016294e-16 3.31695926e-16\n",
      " 3.88018822e-16 6.10097920e-16 7.60300446e-09 1.09904226e-07\n",
      " 3.16227820e+00]\n"
     ]
    }
   ],
   "source": [
    "# test wigner-D transform \n",
    "\n",
    "ell_max = 4 \n",
    "j = 4\n",
    "mp = 1\n",
    "m = -2 \n",
    "\n",
    "\n",
    "def my_fun(alpha,beta,gamma):\n",
    "    Dj = wignerD(j,alpha,beta,gamma)\n",
    "    return (1+3j)*Dj[mp+j,m+j]\n",
    "\n",
    "\n",
    "coef, indices = wignerD_transform(my_fun, ell_max)\n",
    "\n",
    "\n",
    "# print(coef)\n",
    "print(coef[indices[j,mp,m]])\n",
    "print(np.sort(abs(coef)))\n"
   ]
  },
  {
   "cell_type": "code",
   "execution_count": 6,
   "metadata": {},
   "outputs": [
    {
     "name": "stdout",
     "output_type": "stream",
     "text": [
      "(0.299999994105715+0.4999999901761916j)\n",
      "[2.21134721e-18 2.42434976e-18 3.12731722e-18 3.57622406e-18\n",
      " 4.07406188e-18 4.33680869e-18 5.27156724e-18 5.48567729e-18\n",
      " 5.48567729e-18 6.25557407e-18 6.37746851e-18 7.99668010e-18\n",
      " 9.05552240e-18 1.04309039e-17 1.15720489e-17 1.27549370e-17\n",
      " 1.71742552e-17 4.86032247e-17 5.33709463e-17 5.88912433e-17\n",
      " 7.91155631e-17 3.61813120e-08 5.00402991e-08 9.33529779e-08\n",
      " 5.83095178e-01]\n"
     ]
    }
   ],
   "source": [
    "# test sph harm transform \n",
    "\n",
    "\n",
    "ell_max = 4 \n",
    "j = 4\n",
    "m = -1 \n",
    "def my_fun(th,ph):\n",
    "    lpall = norm_assoc_legendre_all(j,np.cos(th))\n",
    "    lpall /= np.sqrt(4*np.pi)\n",
    "    if m<0:\n",
    "        lpall = lpall*(-1)**m\n",
    "    exp_m = np.exp(1j*m*ph)\n",
    "    return (0.3+0.5*1j)*lpall[j,abs(m),:]*exp_m\n",
    "\n",
    "\n",
    "coef, indices = sph_harm_transform(my_fun, ell_max)\n",
    "\n",
    "# print(coef)\n",
    "print(coef[indices[j,m]])\n",
    "print(np.sort(abs(coef)))\n"
   ]
  },
  {
   "cell_type": "code",
   "execution_count": 7,
   "metadata": {},
   "outputs": [
    {
     "data": {
      "image/png": "[encoded data removed]",
      "text/plain": [
       "<Figure size 640x480 with 2 Axes>"
      ]
     },
     "metadata": {},
     "output_type": "display_data"
    }
   ],
   "source": [
    "# plot vMF density \n",
    "\n",
    "c = 10\n",
    "centers = np.random.normal(0,1,size=(c,3))\n",
    "centers /= LA.norm(centers, axis=1, keepdims=True)\n",
    "w_vmf = np.random.uniform(0,1,c)\n",
    "w_vmf = w_vmf/np.sum(w_vmf)\n",
    "\n",
    "\n",
    "ngrid = 50 \n",
    "_ths = np.pi*np.arange(ngrid)/ngrid\n",
    "_phs = 2*np.pi*np.arange(ngrid)/ngrid\n",
    "\n",
    "ths, phs = np.meshgrid(_ths,_phs,indexing='ij')\n",
    "ths, phs = ths.flatten(), phs.flatten()\n",
    "\n",
    "\n",
    "# grid = {}\n",
    "# grid['ths'] = ths\n",
    "# grid['phs'] = phs \n",
    "\n",
    "grid = Grid_3d(type='spherical', ths=ths, phs=phs)\n",
    "\n",
    "\n",
    "kappa = 3\n",
    "f_vmf = vMF_density(centers,w_vmf,kappa,grid)\n",
    "f_vmf = f_vmf.reshape((ngrid,ngrid))\n",
    "\n",
    "plt.imshow(f_vmf, cmap='viridis', interpolation='nearest')\n",
    "plt.colorbar(label='Value')  # Add a colorbar for reference\n",
    "plt.title(\"vMF density\")\n",
    "plt.xlabel(\"thetas\")\n",
    "plt.ylabel(\"phis\")\n",
    "plt.show()"
   ]
  },
  {
   "cell_type": "code",
   "execution_count": 8,
   "metadata": {},
   "outputs": [
    {
     "data": {
      "text/plain": [
       "0.9999999963267545"
      ]
     },
     "execution_count": 8,
     "metadata": {},
     "output_type": "execute_result"
    }
   ],
   "source": [
    "# test the if the integral over sphere is 1 \n",
    "\n",
    "xlege, wlege = lgwt(ngrid, -1, 1)\n",
    "_ths = np.arccos(xlege)\n",
    "\n",
    "_ths, _phs = np.meshgrid(_ths,_phs,indexing='ij')\n",
    "_ths, _phs = _ths.flatten(), _phs.flatten()\n",
    "\n",
    "_wphs = 2*np.pi*np.ones(ngrid)/ngrid\n",
    "\n",
    "wths, wphs = np.meshgrid(wlege,_wphs,indexing='ij')\n",
    "wths, wphs = wths.flatten(), wphs.flatten()\n",
    "wsph = wths*wphs\n",
    "\n",
    "\n",
    "# _grid = {}\n",
    "# _grid['ths'] = _ths \n",
    "# _grid['phs'] = _phs \n",
    "_grid = Grid_3d(type='spherical', ths=_ths, phs=_phs)\n",
    "\n",
    "\n",
    "f = vMF_density(centers,w_vmf,kappa,_grid)\n",
    "\n",
    "np.sum(f*wsph)"
   ]
  },
  {
   "cell_type": "code",
   "execution_count": 9,
   "metadata": {},
   "outputs": [
    {
     "data": {
      "image/png": "[encoded data removed]",
      "text/plain": [
       "<Figure size 640x480 with 2 Axes>"
      ]
     },
     "metadata": {},
     "output_type": "display_data"
    }
   ],
   "source": [
    "# transform the vMF distribution \n",
    "\n",
    "\n",
    "def my_fun(th,ph):\n",
    "    grid = Grid_3d(type='spherical', ths=np.array([th]),phs=np.array([ph]))\n",
    "    return vMF_density(centers,w_vmf,kappa,grid)[0]\n",
    "# my_fun(1,2)\n",
    "\n",
    "ell_max = 5 \n",
    "sph_ham_coef, indices = sph_harm_transform(my_fun, ell_max)\n",
    "\n",
    "f_vmf_expand = sph_ham_coef_eval(sph_ham_coef, indices, ell_max, grid)\n",
    "f_vmf_expand = np.real(f_vmf_expand.reshape([ngrid, ngrid]))\n",
    "\n",
    "\n",
    "plt.imshow(f_vmf_expand, cmap='viridis', interpolation='nearest')\n",
    "plt.colorbar(label='Value')  # Add a colorbar for reference\n",
    "plt.title(\"vMF density\")\n",
    "plt.xlabel(\"thetas\")\n",
    "plt.ylabel(\"phis\")\n",
    "plt.show()"
   ]
  },
  {
   "cell_type": "code",
   "execution_count": 10,
   "metadata": {},
   "outputs": [
    {
     "data": {
      "text/plain": [
       "0.0026407012924134286"
      ]
     },
     "execution_count": 10,
     "metadata": {},
     "output_type": "execute_result"
    }
   ],
   "source": [
    "LA.norm(f_vmf-f_vmf_expand,'fro')/LA.norm(f_vmf,'fro')"
   ]
  },
  {
   "cell_type": "code",
   "execution_count": null,
   "metadata": {},
   "outputs": [],
   "source": []
  }
 ],
 "metadata": {
  "kernelspec": {
   "display_name": "aspire",
   "language": "python",
   "name": "python3"
  },
  "language_info": {
   "codemirror_mode": {
    "name": "ipython",
    "version": 3
   },
   "file_extension": ".py",
   "mimetype": "text/x-python",
   "name": "python",
   "nbconvert_exporter": "python",
   "pygments_lexer": "ipython3",
   "version": "3.9.21"
  }
 },
 "nbformat": 4,
 "nbformat_minor": 2
}
