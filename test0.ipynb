{
 "cells": [
  {
   "cell_type": "code",
   "execution_count": 1,
   "id": "d14a6263-494c-41ce-9ef2-166b1eb14b51",
   "metadata": {},
   "outputs": [],
   "source": [
    "from aspire.basis import FBBasis3D\n",
    "from aspire.volume import Volume\n",
    "from aspire.utils import Rotation\n",
    "# from aspire.basis.basis_utils import norm_assoc_legendre, sph_bessel\n",
    "import numpy as np\n",
    "import mrcfile \n",
    "import matplotlib.pyplot as plt"
   ]
  },
  {
   "cell_type": "code",
   "execution_count": null,
   "id": "6ecd6208-582d-4f9a-b24b-cdea3f959247",
   "metadata": {},
   "outputs": [],
   "source": []
  },
  {
   "cell_type": "code",
   "execution_count": null,
   "id": "a9762493",
   "metadata": {},
   "outputs": [],
   "source": []
  },
  {
   "cell_type": "code",
   "execution_count": 2,
   "id": "adfc20e3-68fa-4d1f-bba7-557887e3e32d",
   "metadata": {},
   "outputs": [],
   "source": [
    "with mrcfile.open('emd_34948.map') as mrc:\n",
    "    data = mrc.data\n",
    "\n",
    "vol = Volume(data)"
   ]
  },
  {
   "cell_type": "code",
   "execution_count": 3,
   "id": "608c5430-4b0e-475f-94f4-587df479e3dc",
   "metadata": {},
   "outputs": [],
   "source": [
    "# R = Rotation(np.eye(3)) \n",
    "# R = R.generate_random_rotations(n=20)\n",
    "# # R.matrices"
   ]
  },
  {
   "cell_type": "code",
   "execution_count": 4,
   "id": "e4e5790b-5a5d-478a-96d6-eb3bea84a717",
   "metadata": {},
   "outputs": [],
   "source": [
    "# Imgs = vol.project(R)"
   ]
  },
  {
   "cell_type": "code",
   "execution_count": 5,
   "id": "b8bbce51-b15a-4a48-81c3-2dd9c7b48770",
   "metadata": {},
   "outputs": [],
   "source": [
    "# Imgs.show(columns=5,colorbar=False)"
   ]
  },
  {
   "cell_type": "code",
   "execution_count": 6,
   "id": "2639833d-a406-4259-a656-7fc133dd5dcf",
   "metadata": {},
   "outputs": [],
   "source": [
    "ds_res = 64 \n",
    "vol = vol.downsample(ds_res)\n",
    "vol = vol.asnumpy()\n",
    "vol = vol[0]"
   ]
  },
  {
   "cell_type": "code",
   "execution_count": 7,
   "id": "3e2dda93-1eae-4440-bfc4-c8eadf997587",
   "metadata": {},
   "outputs": [],
   "source": [
    "# fb3d_basis = FBBasis3D(size=ds_res, ell_max=8)\n",
    "# coef = fb3d_basis.evaluate_t(vol)"
   ]
  },
  {
   "cell_type": "code",
   "execution_count": 8,
   "id": "5fae6f99-cdd5-4dea-9319-c2e1910a8617",
   "metadata": {},
   "outputs": [],
   "source": [
    "# coef.asnumpy()"
   ]
  },
  {
   "cell_type": "code",
   "execution_count": 9,
   "id": "62957f56-2a78-4326-9148-6935f18067c6",
   "metadata": {},
   "outputs": [],
   "source": [
    "# vol_expand = fb3d_basis.evaluate(coef)"
   ]
  },
  {
   "cell_type": "code",
   "execution_count": 10,
   "id": "783d7777-db3d-4703-a56b-38e1b947dc1e",
   "metadata": {},
   "outputs": [],
   "source": [
    "# Imgs_expand = vol_expand.project(R)\n",
    "# Imgs_expand.show(columns=5,colorbar=False)"
   ]
  },
  {
   "cell_type": "code",
   "execution_count": 11,
   "id": "f1519aa9-790c-4bc1-b2fb-a42f26e7b54c",
   "metadata": {},
   "outputs": [],
   "source": [
    "# fb3d_basis.k_max"
   ]
  },
  {
   "cell_type": "code",
   "execution_count": 12,
   "id": "ce7a0838-8fa8-44f3-ae0e-7804c0c56cd2",
   "metadata": {},
   "outputs": [],
   "source": [
    "# fb3d_basis.indices()['ells'].shape"
   ]
  },
  {
   "cell_type": "code",
   "execution_count": 13,
   "id": "fc3040b8-f683-44ca-9ce6-139be9ce0d4d",
   "metadata": {},
   "outputs": [],
   "source": [
    "# fb3d_basis.indices()['ms'].shape"
   ]
  },
  {
   "cell_type": "code",
   "execution_count": 14,
   "id": "06e29dab-f56f-45b8-aa76-8455d5a185eb",
   "metadata": {},
   "outputs": [],
   "source": [
    "# _precomp = fb3d_basis._precomp"
   ]
  },
  {
   "cell_type": "code",
   "execution_count": 15,
   "id": "7ebfc935-6cf1-426c-b45b-4d937f328832",
   "metadata": {},
   "outputs": [],
   "source": [
    "# _precomp"
   ]
  },
  {
   "cell_type": "code",
   "execution_count": 16,
   "id": "d68c92d2-20b1-4eb4-b39d-8c0afc4e2d2b",
   "metadata": {},
   "outputs": [],
   "source": [
    "# _precomp['radial'].shape"
   ]
  },
  {
   "cell_type": "code",
   "execution_count": 17,
   "id": "efae4056-8ed2-4b87-8145-95563e4df58f",
   "metadata": {},
   "outputs": [],
   "source": [
    "# _precomp['ang'].shape"
   ]
  },
  {
   "cell_type": "code",
   "execution_count": null,
   "id": "bf6c2727-2662-4971-b009-359a42b4b072",
   "metadata": {},
   "outputs": [],
   "source": []
  },
  {
   "cell_type": "code",
   "execution_count": 18,
   "id": "486a3964-26eb-4f67-9b5f-3d5873aa7b69",
   "metadata": {},
   "outputs": [
    {
     "data": {
      "text/plain": [
       "(-8.673617379884035e-18-1.3010426069826053e-18j)"
      ]
     },
     "execution_count": 18,
     "metadata": {},
     "output_type": "execute_result"
    }
   ],
   "source": [
    "# test that spherical harmonic is normalized \n",
    "\n",
    "from aspire.basis.basis_utils import sph_harm,lgwt \n",
    "from scipy.special import lpmn \n",
    "import math\n",
    "\n",
    "\n",
    "j = 6\n",
    "m1 = 2 \n",
    "\n",
    "j = 6 \n",
    "m2 = 1\n",
    "theta = np.pi/4 \n",
    "phi = np.pi/8 \n",
    "# sph_harm(j, m, theta, phi)\n",
    "\n",
    "nlege = j+1 \n",
    "xlege, wlege = lgwt(nlege, -1, 1)\n",
    "\n",
    "nphi = 2*j+1 \n",
    "phis = 2*np.pi*np.arange(0,2*j+1)/nphi\n",
    "wphis = 2*np.pi*np.ones(nphi)/nphi\n",
    "\n",
    "[xlege,phis] = np.meshgrid(xlege,phis,indexing='ij')\n",
    "[wlege,wphis] = np.meshgrid(wlege,wphis,indexing='ij')\n",
    "\n",
    "F1 = np.zeros(xlege.shape,dtype=complex)\n",
    "F2 = np.zeros(xlege.shape,dtype=complex)\n",
    "\n",
    "\n",
    "\n",
    "for x in range(nlege):\n",
    "  for y in range(nphi):\n",
    "    F1[x,y] = sph_harm(j, m1, np.arccos(xlege[x,y]), phis[x,y])\n",
    "    F2[x,y] = sph_harm(j, m2, np.arccos(xlege[x,y]), phis[x,y])\n",
    "\n",
    "\n",
    "# v1 = norm_assoc_legendre(j,m1,xlege[x,y])\n",
    "# lpall = lpmn(m1,j,xlege[x,y])\n",
    "# lpall = lpall[0]\n",
    "# v2 = np.sqrt((2*j+1)*math.factorial(j-abs(m1))/2/math.factorial(j+abs(m1)))*lpall[m1,j]\n",
    "\n",
    "# print(v2*np.exp(1j*m1*phis[x,y])*np.sqrt(1/2/np.pi))\n",
    "# sph_harm(j, m1, np.arccos(xlege[x,y]), phis[x,y])\n",
    "# print(v1,v2)\n",
    "\n",
    "\n",
    "np.sum(np.conj(F1)*F2*wlege*wphis)"
   ]
  },
  {
   "cell_type": "code",
   "execution_count": 19,
   "id": "b0185d11",
   "metadata": {},
   "outputs": [],
   "source": [
    "ell_max = 8 \n",
    "ds_res = 64 \n",
    "ndim = 3 \n",
    "k_max, r0 = calc_k_max(ell_max,ds_res,ndim)\n",
    "indices = get_indices(ell_max, k_max)"
   ]
  },
  {
   "cell_type": "code",
   "execution_count": 26,
   "id": "75afae84",
   "metadata": {},
   "outputs": [
    {
     "name": "stdout",
     "output_type": "stream",
     "text": [
      "1.000000107742497 -2.9492975198116745e-08\n"
     ]
    }
   ],
   "source": [
    "# test spherical bessel basis \n",
    "from aspire.basis.basis_utils import sph_bessel \n",
    "\n",
    "\n",
    "# def basis_norm_3d(ell, k, nres, r0):\n",
    "#     \"\"\"\n",
    "#     Calculate the normalized factor of a specified basis function.\n",
    "#     \"\"\"\n",
    "#     return (\n",
    "#         np.abs(sph_bessel(ell + 1, r0[ell][k - 1]))\n",
    "#         / np.sqrt(2)\n",
    "#         * np.sqrt((nres / 2) ** 3)\n",
    "#         )\n",
    "\n",
    "c = 0.5 \n",
    "nlege = 50\n",
    "xlege, wlege = lgwt(nlege, 0, c)\n",
    "\n",
    "\n",
    "ell1 = 8 \n",
    "k1 = 5 \n",
    "z = r0[ell1][k1-1]\n",
    "j1s = sph_bessel(ell1, xlege*z/c)\n",
    "dj1s = sph_bessel(ell1-1, z)-((ell1+1)/z)*sph_bessel(ell1, z)\n",
    "nj1s = np.sqrt(2/c**3)/abs(dj1s)\n",
    "j1s = j1s*nj1s \n",
    "\n",
    "\n",
    "\n",
    "ell2 = 8\n",
    "k2 = 2\n",
    "z = r0[ell2][k2-1]\n",
    "j2s = sph_bessel(ell2, xlege*z/c)\n",
    "dj2s = sph_bessel(ell2-1, z)-((ell2+1)/z)*sph_bessel(ell2, z)\n",
    "nj2s = np.sqrt(2/c**3)/abs(dj2s)\n",
    "j2s = j2s*nj2s \n",
    "\n",
    "\n",
    "\n",
    "print(np.sum(j1s**2*xlege**2*wlege), np.sum(j1s*j2s*xlege**2*wlege))"
   ]
  },
  {
   "cell_type": "code",
   "execution_count": 21,
   "id": "ebd1f4c8",
   "metadata": {},
   "outputs": [
    {
     "name": "stdout",
     "output_type": "stream",
     "text": [
      "0.041666668 0.041666666666666664\n"
     ]
    }
   ],
   "source": [
    "print(np.sum(xlege**2*wlege), 0.5**3/3)"
   ]
  },
  {
   "cell_type": "code",
   "execution_count": 22,
   "id": "13dc9b97",
   "metadata": {},
   "outputs": [
    {
     "data": {
      "text/plain": [
       "array([[[-1.     , -0.96875, -0.9375 , ...,  0.90625,  0.9375 ,\n",
       "          0.96875],\n",
       "        [-1.     , -0.96875, -0.9375 , ...,  0.90625,  0.9375 ,\n",
       "          0.96875],\n",
       "        [-1.     , -0.96875, -0.9375 , ...,  0.90625,  0.9375 ,\n",
       "          0.96875],\n",
       "        ...,\n",
       "        [-1.     , -0.96875, -0.9375 , ...,  0.90625,  0.9375 ,\n",
       "          0.96875],\n",
       "        [-1.     , -0.96875, -0.9375 , ...,  0.90625,  0.9375 ,\n",
       "          0.96875],\n",
       "        [-1.     , -0.96875, -0.9375 , ...,  0.90625,  0.9375 ,\n",
       "          0.96875]],\n",
       "\n",
       "       [[-1.     , -0.96875, -0.9375 , ...,  0.90625,  0.9375 ,\n",
       "          0.96875],\n",
       "        [-1.     , -0.96875, -0.9375 , ...,  0.90625,  0.9375 ,\n",
       "          0.96875],\n",
       "        [-1.     , -0.96875, -0.9375 , ...,  0.90625,  0.9375 ,\n",
       "          0.96875],\n",
       "        ...,\n",
       "        [-1.     , -0.96875, -0.9375 , ...,  0.90625,  0.9375 ,\n",
       "          0.96875],\n",
       "        [-1.     , -0.96875, -0.9375 , ...,  0.90625,  0.9375 ,\n",
       "          0.96875],\n",
       "        [-1.     , -0.96875, -0.9375 , ...,  0.90625,  0.9375 ,\n",
       "          0.96875]],\n",
       "\n",
       "       [[-1.     , -0.96875, -0.9375 , ...,  0.90625,  0.9375 ,\n",
       "          0.96875],\n",
       "        [-1.     , -0.96875, -0.9375 , ...,  0.90625,  0.9375 ,\n",
       "          0.96875],\n",
       "        [-1.     , -0.96875, -0.9375 , ...,  0.90625,  0.9375 ,\n",
       "          0.96875],\n",
       "        ...,\n",
       "        [-1.     , -0.96875, -0.9375 , ...,  0.90625,  0.9375 ,\n",
       "          0.96875],\n",
       "        [-1.     , -0.96875, -0.9375 , ...,  0.90625,  0.9375 ,\n",
       "          0.96875],\n",
       "        [-1.     , -0.96875, -0.9375 , ...,  0.90625,  0.9375 ,\n",
       "          0.96875]],\n",
       "\n",
       "       ...,\n",
       "\n",
       "       [[-1.     , -0.96875, -0.9375 , ...,  0.90625,  0.9375 ,\n",
       "          0.96875],\n",
       "        [-1.     , -0.96875, -0.9375 , ...,  0.90625,  0.9375 ,\n",
       "          0.96875],\n",
       "        [-1.     , -0.96875, -0.9375 , ...,  0.90625,  0.9375 ,\n",
       "          0.96875],\n",
       "        ...,\n",
       "        [-1.     , -0.96875, -0.9375 , ...,  0.90625,  0.9375 ,\n",
       "          0.96875],\n",
       "        [-1.     , -0.96875, -0.9375 , ...,  0.90625,  0.9375 ,\n",
       "          0.96875],\n",
       "        [-1.     , -0.96875, -0.9375 , ...,  0.90625,  0.9375 ,\n",
       "          0.96875]],\n",
       "\n",
       "       [[-1.     , -0.96875, -0.9375 , ...,  0.90625,  0.9375 ,\n",
       "          0.96875],\n",
       "        [-1.     , -0.96875, -0.9375 , ...,  0.90625,  0.9375 ,\n",
       "          0.96875],\n",
       "        [-1.     , -0.96875, -0.9375 , ...,  0.90625,  0.9375 ,\n",
       "          0.96875],\n",
       "        ...,\n",
       "        [-1.     , -0.96875, -0.9375 , ...,  0.90625,  0.9375 ,\n",
       "          0.96875],\n",
       "        [-1.     , -0.96875, -0.9375 , ...,  0.90625,  0.9375 ,\n",
       "          0.96875],\n",
       "        [-1.     , -0.96875, -0.9375 , ...,  0.90625,  0.9375 ,\n",
       "          0.96875]],\n",
       "\n",
       "       [[-1.     , -0.96875, -0.9375 , ...,  0.90625,  0.9375 ,\n",
       "          0.96875],\n",
       "        [-1.     , -0.96875, -0.9375 , ...,  0.90625,  0.9375 ,\n",
       "          0.96875],\n",
       "        [-1.     , -0.96875, -0.9375 , ...,  0.90625,  0.9375 ,\n",
       "          0.96875],\n",
       "        ...,\n",
       "        [-1.     , -0.96875, -0.9375 , ...,  0.90625,  0.9375 ,\n",
       "          0.96875],\n",
       "        [-1.     , -0.96875, -0.9375 , ...,  0.90625,  0.9375 ,\n",
       "          0.96875],\n",
       "        [-1.     , -0.96875, -0.9375 , ...,  0.90625,  0.9375 ,\n",
       "          0.96875]]], dtype=float32)"
      ]
     },
     "execution_count": 22,
     "metadata": {},
     "output_type": "execute_result"
    }
   ],
   "source": [
    "from aspire.utils.coor_trans import grid_3d \n",
    "\n",
    "grid = grid_3d(ds_res)\n",
    "grid['x']"
   ]
  },
  {
   "cell_type": "code",
   "execution_count": 27,
   "id": "2517ddb0",
   "metadata": {},
   "outputs": [],
   "source": [
    "import finufft\n",
    "\n",
    "n = vol.shape[0]\n",
    "\n",
    "nr = int(1.5*n)\n",
    "nth = int(1.5*n)\n",
    "nph = int(1.5*n)\n",
    "\n",
    "c = 0.5 \n",
    "[xr,wr] = lgwt(nr,0,c)\n",
    "[xth,wth] = lgwt(nth,-1,1)\n",
    "xth = np.arccos(xth)\n",
    "xph = phis = 2*np.pi*np.arange(0,nph)/nph\n",
    "wph = 2*np.pi*np.ones(nph)/nph\n",
    "\n",
    "\n",
    "[xr,xth,xph] = np.meshgrid(xr,xth,xph,indexing='ij')\n",
    "[wr,wth,wph] = np.meshgrid(wr,wth,wph,indexing='ij')\n",
    "\n",
    "w = wr*wth*wph\n",
    "\n",
    "ell_max = 5 \n",
    "k_max, r0 = calc_k_max(ell_max,ds_res,ndim)\n",
    "indices = get_indices(ell_max, k_max)\n",
    "\n",
    "\n",
    "\n",
    "\n",
    "for ell in range(0,ell_max+1):\n",
    "\n",
    "    for k in range(0,k_max[ell]):\n",
    "\n",
    "        z = r0[ell][k1]\n",
    "        js = sph_bessel(ell, xlege*z/c)\n",
    "        djs = sph_bessel(ell-1, z)-((ell+1)/z)*sph_bessel(ell, z)\n",
    "        \n",
    "\n",
    "\n",
    "\n",
    "\n"
   ]
  },
  {
   "cell_type": "code",
   "execution_count": 29,
   "id": "833336b2",
   "metadata": {},
   "outputs": [
    {
     "data": {
      "text/plain": [
       "29"
      ]
     },
     "execution_count": 29,
     "metadata": {},
     "output_type": "execute_result"
    }
   ],
   "source": [
    "k_max[5]"
   ]
  },
  {
   "cell_type": "code",
   "execution_count": 31,
   "id": "35f79cd1",
   "metadata": {},
   "outputs": [
    {
     "data": {
      "text/plain": [
       "(29,)"
      ]
     },
     "execution_count": 31,
     "metadata": {},
     "output_type": "execute_result"
    }
   ],
   "source": []
  },
  {
   "cell_type": "code",
   "execution_count": null,
   "id": "f24ea715-ec1c-4f8d-b203-e8b0411bec31",
   "metadata": {},
   "outputs": [],
   "source": []
  }
 ],
 "metadata": {
  "kernelspec": {
   "display_name": "aspire",
   "language": "python",
   "name": "python3"
  },
  "language_info": {
   "codemirror_mode": {
    "name": "ipython",
    "version": 3
   },
   "file_extension": ".py",
   "mimetype": "text/x-python",
   "name": "python",
   "nbconvert_exporter": "python",
   "pygments_lexer": "ipython3",
   "version": "3.9.21"
  }
 },
 "nbformat": 4,
 "nbformat_minor": 5
}
